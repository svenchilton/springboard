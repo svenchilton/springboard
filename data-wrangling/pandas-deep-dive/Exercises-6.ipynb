{
 "cells": [
  {
   "cell_type": "code",
   "execution_count": 1,
   "metadata": {
    "collapsed": true
   },
   "outputs": [],
   "source": [
    "%matplotlib inline\n",
    "import pandas as pd"
   ]
  },
  {
   "cell_type": "code",
   "execution_count": 2,
   "metadata": {
    "collapsed": false
   },
   "outputs": [
    {
     "data": {
      "text/html": [
       "<style>body {\n",
       "    margin: 0;\n",
       "    font-family: Helvetica;\n",
       "}\n",
       "table.dataframe {\n",
       "    border-collapse: collapse;\n",
       "    border: none;\n",
       "}\n",
       "table.dataframe tr {\n",
       "    border: none;\n",
       "}\n",
       "table.dataframe td, table.dataframe th {\n",
       "    margin: 0;\n",
       "    border: 1px solid white;\n",
       "    padding-left: 0.25em;\n",
       "    padding-right: 0.25em;\n",
       "}\n",
       "table.dataframe th:not(:empty) {\n",
       "    background-color: #fec;\n",
       "    text-align: left;\n",
       "    font-weight: normal;\n",
       "}\n",
       "table.dataframe tr:nth-child(2) th:empty {\n",
       "    border-left: none;\n",
       "    border-right: 1px dashed #888;\n",
       "}\n",
       "table.dataframe td {\n",
       "    border: 2px solid #ccf;\n",
       "    background-color: #f4f4ff;\n",
       "}\n",
       "h3 {\n",
       "    color: white;\n",
       "    background-color: black;\n",
       "    padding: 0.5em;\n",
       "}\n",
       "</style>"
      ],
      "text/plain": [
       "<IPython.core.display.HTML object>"
      ]
     },
     "execution_count": 2,
     "metadata": {},
     "output_type": "execute_result"
    }
   ],
   "source": [
    "from IPython.core.display import HTML\n",
    "css = open('style-table.css').read() + open('style-notebook.css').read()\n",
    "HTML('<style>{}</style>'.format(css))"
   ]
  },
  {
   "cell_type": "code",
   "execution_count": 3,
   "metadata": {
    "collapsed": false
   },
   "outputs": [
    {
     "data": {
      "text/html": [
       "<div>\n",
       "<table border=\"1\" class=\"dataframe\">\n",
       "  <thead>\n",
       "    <tr style=\"text-align: right;\">\n",
       "      <th></th>\n",
       "      <th>Book title</th>\n",
       "      <th>Number sold</th>\n",
       "      <th>Sales price</th>\n",
       "      <th>Royalty paid</th>\n",
       "    </tr>\n",
       "  </thead>\n",
       "  <tbody>\n",
       "    <tr>\n",
       "      <th>0</th>\n",
       "      <td>The Bricklayer’s Bible</td>\n",
       "      <td>8</td>\n",
       "      <td>2.99</td>\n",
       "      <td>0.55</td>\n",
       "    </tr>\n",
       "    <tr>\n",
       "      <th>1</th>\n",
       "      <td>Swimrand</td>\n",
       "      <td>2</td>\n",
       "      <td>1.99</td>\n",
       "      <td>0.35</td>\n",
       "    </tr>\n",
       "    <tr>\n",
       "      <th>2</th>\n",
       "      <td>Pining For The Fisheries of Yore</td>\n",
       "      <td>28</td>\n",
       "      <td>2.99</td>\n",
       "      <td>0.55</td>\n",
       "    </tr>\n",
       "    <tr>\n",
       "      <th>3</th>\n",
       "      <td>The Duck Goes Here</td>\n",
       "      <td>34</td>\n",
       "      <td>2.99</td>\n",
       "      <td>0.55</td>\n",
       "    </tr>\n",
       "    <tr>\n",
       "      <th>4</th>\n",
       "      <td>The Tower Commission Report</td>\n",
       "      <td>4</td>\n",
       "      <td>11.50</td>\n",
       "      <td>4.25</td>\n",
       "    </tr>\n",
       "  </tbody>\n",
       "</table>\n",
       "</div>"
      ],
      "text/plain": [
       "                         Book title  Number sold  Sales price  Royalty paid\n",
       "0            The Bricklayer’s Bible            8         2.99          0.55\n",
       "1                          Swimrand            2         1.99          0.35\n",
       "2  Pining For The Fisheries of Yore           28         2.99          0.55\n",
       "3                The Duck Goes Here           34         2.99          0.55\n",
       "4       The Tower Commission Report            4        11.50          4.25"
      ]
     },
     "execution_count": 3,
     "metadata": {},
     "output_type": "execute_result"
    }
   ],
   "source": [
    "sales1 = pd.read_csv('sales1.csv')\n",
    "sales1"
   ]
  },
  {
   "cell_type": "code",
   "execution_count": 4,
   "metadata": {
    "collapsed": false
   },
   "outputs": [
    {
     "data": {
      "text/html": [
       "<div>\n",
       "<table border=\"1\" class=\"dataframe\">\n",
       "  <thead>\n",
       "    <tr style=\"text-align: right;\">\n",
       "      <th></th>\n",
       "      <th>Title</th>\n",
       "      <th>Units sold</th>\n",
       "      <th>List price</th>\n",
       "      <th>Royalty</th>\n",
       "    </tr>\n",
       "  </thead>\n",
       "  <tbody>\n",
       "    <tr>\n",
       "      <th>0</th>\n",
       "      <td></td>\n",
       "      <td></td>\n",
       "      <td></td>\n",
       "      <td></td>\n",
       "    </tr>\n",
       "    <tr>\n",
       "      <th>1</th>\n",
       "      <td>Sales report for Q4</td>\n",
       "      <td></td>\n",
       "      <td></td>\n",
       "      <td></td>\n",
       "    </tr>\n",
       "    <tr>\n",
       "      <th>2</th>\n",
       "      <td>E-Book Reader US Store</td>\n",
       "      <td></td>\n",
       "      <td></td>\n",
       "      <td></td>\n",
       "    </tr>\n",
       "    <tr>\n",
       "      <th>3</th>\n",
       "      <td>Pining for the Fisheries of Yore</td>\n",
       "      <td>80</td>\n",
       "      <td>3.5</td>\n",
       "      <td>14.98</td>\n",
       "    </tr>\n",
       "    <tr>\n",
       "      <th>4</th>\n",
       "      <td>Swimrand</td>\n",
       "      <td>1</td>\n",
       "      <td>2.99</td>\n",
       "      <td>0.14</td>\n",
       "    </tr>\n",
       "    <tr>\n",
       "      <th>5</th>\n",
       "      <td>The Bricklayer's Bible</td>\n",
       "      <td>17</td>\n",
       "      <td>3.5</td>\n",
       "      <td>5.15</td>\n",
       "    </tr>\n",
       "    <tr>\n",
       "      <th>6</th>\n",
       "      <td>The Duck Goes Here</td>\n",
       "      <td>34</td>\n",
       "      <td>2.99</td>\n",
       "      <td>5.78</td>\n",
       "    </tr>\n",
       "    <tr>\n",
       "      <th>7</th>\n",
       "      <td>The Tower Commission Report</td>\n",
       "      <td>4</td>\n",
       "      <td>9.5</td>\n",
       "      <td>6.2</td>\n",
       "    </tr>\n",
       "    <tr>\n",
       "      <th>8</th>\n",
       "      <td>US royalties (USD)</td>\n",
       "      <td></td>\n",
       "      <td></td>\n",
       "      <td>32.25</td>\n",
       "    </tr>\n",
       "    <tr>\n",
       "      <th>9</th>\n",
       "      <td></td>\n",
       "      <td></td>\n",
       "      <td></td>\n",
       "      <td></td>\n",
       "    </tr>\n",
       "    <tr>\n",
       "      <th>10</th>\n",
       "      <td></td>\n",
       "      <td></td>\n",
       "      <td></td>\n",
       "      <td></td>\n",
       "    </tr>\n",
       "    <tr>\n",
       "      <th>11</th>\n",
       "      <td>Sales report for Q4</td>\n",
       "      <td></td>\n",
       "      <td></td>\n",
       "      <td></td>\n",
       "    </tr>\n",
       "    <tr>\n",
       "      <th>12</th>\n",
       "      <td>E-Book Reader UK Store</td>\n",
       "      <td></td>\n",
       "      <td></td>\n",
       "      <td></td>\n",
       "    </tr>\n",
       "    <tr>\n",
       "      <th>13</th>\n",
       "      <td>Pining for the Fisheries of Yore</td>\n",
       "      <td>47</td>\n",
       "      <td>2.99</td>\n",
       "      <td>11.98</td>\n",
       "    </tr>\n",
       "    <tr>\n",
       "      <th>14</th>\n",
       "      <td>The Bricklayer's Bible</td>\n",
       "      <td>17</td>\n",
       "      <td>2.99</td>\n",
       "      <td>3.5</td>\n",
       "    </tr>\n",
       "    <tr>\n",
       "      <th>15</th>\n",
       "      <td>The Tower Commission Report</td>\n",
       "      <td>4</td>\n",
       "      <td>6.5</td>\n",
       "      <td>4.8</td>\n",
       "    </tr>\n",
       "    <tr>\n",
       "      <th>16</th>\n",
       "      <td>UK royalties (GBP)</td>\n",
       "      <td></td>\n",
       "      <td></td>\n",
       "      <td>20.28</td>\n",
       "    </tr>\n",
       "    <tr>\n",
       "      <th>17</th>\n",
       "      <td></td>\n",
       "      <td></td>\n",
       "      <td></td>\n",
       "      <td></td>\n",
       "    </tr>\n",
       "    <tr>\n",
       "      <th>18</th>\n",
       "      <td></td>\n",
       "      <td></td>\n",
       "      <td></td>\n",
       "      <td></td>\n",
       "    </tr>\n",
       "    <tr>\n",
       "      <th>19</th>\n",
       "      <td>Sales report for Q4</td>\n",
       "      <td></td>\n",
       "      <td></td>\n",
       "      <td></td>\n",
       "    </tr>\n",
       "    <tr>\n",
       "      <th>20</th>\n",
       "      <td>E-Book Reader France Store</td>\n",
       "      <td></td>\n",
       "      <td></td>\n",
       "      <td></td>\n",
       "    </tr>\n",
       "    <tr>\n",
       "      <th>21</th>\n",
       "      <td>Swimrand</td>\n",
       "      <td>8</td>\n",
       "      <td>1.99</td>\n",
       "      <td>0.88</td>\n",
       "    </tr>\n",
       "    <tr>\n",
       "      <th>22</th>\n",
       "      <td>The Duck Goes Here</td>\n",
       "      <td>12</td>\n",
       "      <td>1.99</td>\n",
       "      <td>1.5</td>\n",
       "    </tr>\n",
       "    <tr>\n",
       "      <th>23</th>\n",
       "      <td>France royalties (EUR)</td>\n",
       "      <td></td>\n",
       "      <td></td>\n",
       "      <td>2.38</td>\n",
       "    </tr>\n",
       "  </tbody>\n",
       "</table>\n",
       "</div>"
      ],
      "text/plain": [
       "                               Title Units sold List price Royalty\n",
       "0                                                                 \n",
       "1                Sales report for Q4                              \n",
       "2             E-Book Reader US Store                              \n",
       "3   Pining for the Fisheries of Yore         80        3.5   14.98\n",
       "4                           Swimrand          1       2.99    0.14\n",
       "5             The Bricklayer's Bible         17        3.5    5.15\n",
       "6                 The Duck Goes Here         34       2.99    5.78\n",
       "7        The Tower Commission Report          4        9.5     6.2\n",
       "8                 US royalties (USD)                         32.25\n",
       "9                                                                 \n",
       "10                                                                \n",
       "11               Sales report for Q4                              \n",
       "12            E-Book Reader UK Store                              \n",
       "13  Pining for the Fisheries of Yore         47       2.99   11.98\n",
       "14            The Bricklayer's Bible         17       2.99     3.5\n",
       "15       The Tower Commission Report          4        6.5     4.8\n",
       "16                UK royalties (GBP)                         20.28\n",
       "17                                                                \n",
       "18                                                                \n",
       "19               Sales report for Q4                              \n",
       "20        E-Book Reader France Store                              \n",
       "21                          Swimrand          8       1.99    0.88\n",
       "22                The Duck Goes Here         12       1.99     1.5\n",
       "23            France royalties (EUR)                          2.38"
      ]
     },
     "execution_count": 4,
     "metadata": {},
     "output_type": "execute_result"
    }
   ],
   "source": [
    "sales2 = pd.read_csv('sales2.csv')\n",
    "sales2.fillna('')"
   ]
  },
  {
   "cell_type": "markdown",
   "metadata": {
    "collapsed": true
   },
   "source": [
    "### Challenge: first combine these sales together into a single dataframe, then compute how much money consumers spent on each book in each currency."
   ]
  },
  {
   "cell_type": "markdown",
   "metadata": {},
   "source": [
    "First, let's rename the columns in ```sales1``` and ```sales2```.  This will make it easier for us to join, merge, slice, and dice later."
   ]
  },
  {
   "cell_type": "code",
   "execution_count": 5,
   "metadata": {
    "collapsed": true
   },
   "outputs": [],
   "source": [
    "sales1 = sales1.rename(columns={'Book title': 'title',\n",
    "                                'Number sold':'number', \n",
    "                                'Sales price':'they_paid', \n",
    "                                'Royalty paid':'we_got'})\n",
    "sales2 = sales2.rename(columns={'Title': 'title',\n",
    "                                'Units sold':'number', \n",
    "                                'List price':'they_paid', \n",
    "                                'Royalty':'we_got'})"
   ]
  },
  {
   "cell_type": "markdown",
   "metadata": {},
   "source": [
    "My original idea was to break up the ```sales2``` ```DataFrame``` by currency and add a column of the appropriate name manually.  It turns out there's a slicker way to do that."
   ]
  },
  {
   "cell_type": "markdown",
   "metadata": {},
   "source": [
    "This command might take a little explaining.  We're finding the names of the currencies by finding (string) values in the ```'title'``` column of ```sales2``` which end with a close-paren, splitting those strings on spaces into lists of strings, extracting the final elements from those lists, and stripping the parentheses from the extracted elements."
   ]
  },
  {
   "cell_type": "code",
   "execution_count": 6,
   "metadata": {
    "collapsed": false
   },
   "outputs": [],
   "source": [
    "currency = sales2['title'].where(sales2['title'].str.endswith(')')).str.split().str[-1].str.strip('()')"
   ]
  },
  {
   "cell_type": "markdown",
   "metadata": {},
   "source": [
    "Add a ```'currency'``` column to ```sales2```, then delete any rows which don't contain an actual book title.  Let's do this by finding and eliminating rows with ```NaN``` values in the ```'number'``` column."
   ]
  },
  {
   "cell_type": "code",
   "execution_count": 7,
   "metadata": {
    "collapsed": false
   },
   "outputs": [],
   "source": [
    "sales2['currency'] = currency.fillna(method='bfill')\n",
    "sales2 = sales2[sales2['number'].notnull()]"
   ]
  },
  {
   "cell_type": "markdown",
   "metadata": {},
   "source": [
    "Add a ```'currency'``` column to ```sales1```"
   ]
  },
  {
   "cell_type": "code",
   "execution_count": 8,
   "metadata": {
    "collapsed": false
   },
   "outputs": [],
   "source": [
    "sales1.insert(len(sales1.columns), 'currency', 'USD')"
   ]
  },
  {
   "cell_type": "markdown",
   "metadata": {},
   "source": [
    "Here's the implementation of my original idea.  It does also work, but because of ```sales2```'s formatting, it's a bit less elegant than the work above."
   ]
  },
  {
   "cell_type": "code",
   "execution_count": 9,
   "metadata": {
    "collapsed": false
   },
   "outputs": [],
   "source": [
    "## Let's break up the sales2 DataFrame \n",
    "## Remember that the final index on a call to loc is inclusive\n",
    "#us_sales = sales2.loc[3:7]\n",
    "#uk_sales = sales2.loc[13:15]\n",
    "#france_sales = sales2.loc[21:22]\n",
    "\n",
    "## Compute the number of columns of each DataFrame\n",
    "## This will allow us to insert the 'currency' column in the last position\n",
    "#num_sales1_cols = len(sales1.columns)\n",
    "#num_sales2_cols = len(sales2.columns)\n",
    "\n",
    "## Insert the columns\n",
    "## This is an in-place operation\n",
    "#sales1.insert(num_sales1_cols, 'currency', 'USD')\n",
    "#us_sales.insert(num_sales2_cols, 'currency', 'USD')\n",
    "#uk_sales.insert(num_sales2_cols, 'currency', 'GBP')\n",
    "#france_sales.insert(num_sales2_cols, 'currency', 'EUR')\n",
    "\n",
    "## Concatenate the sales DataFrames\n",
    "#sales = pd.concat([sales1, us_sales, uk_sales, france_sales])"
   ]
  },
  {
   "cell_type": "markdown",
   "metadata": {},
   "source": [
    "Concatenate the ```sales``` ```DataFrame```s"
   ]
  },
  {
   "cell_type": "code",
   "execution_count": 10,
   "metadata": {
    "collapsed": true
   },
   "outputs": [],
   "source": [
    "sales = pd.concat([sales1, sales2])"
   ]
  },
  {
   "cell_type": "markdown",
   "metadata": {},
   "source": [
    "Insert a ```total_paid``` column into the ```sales``` ```DataFrame```"
   ]
  },
  {
   "cell_type": "code",
   "execution_count": 11,
   "metadata": {
    "collapsed": true
   },
   "outputs": [],
   "source": [
    "sales.insert(len(sales.columns)-1, 'total_paid', sales['number']*sales['they_paid'])"
   ]
  },
  {
   "cell_type": "markdown",
   "metadata": {},
   "source": [
    "Now, we compute the total consumer spending for each book by currency"
   ]
  },
  {
   "cell_type": "code",
   "execution_count": 12,
   "metadata": {
    "collapsed": true
   },
   "outputs": [],
   "source": [
    "total_sales = sales.groupby(['title','currency'])[['total_paid']].sum()"
   ]
  },
  {
   "cell_type": "code",
   "execution_count": 13,
   "metadata": {
    "collapsed": false
   },
   "outputs": [
    {
     "data": {
      "text/html": [
       "<div>\n",
       "<table border=\"1\" class=\"dataframe\">\n",
       "  <thead>\n",
       "    <tr style=\"text-align: right;\">\n",
       "      <th></th>\n",
       "      <th></th>\n",
       "      <th>total_paid</th>\n",
       "    </tr>\n",
       "    <tr>\n",
       "      <th>title</th>\n",
       "      <th>currency</th>\n",
       "      <th></th>\n",
       "    </tr>\n",
       "  </thead>\n",
       "  <tbody>\n",
       "    <tr>\n",
       "      <th>Pining For The Fisheries of Yore</th>\n",
       "      <th>USD</th>\n",
       "      <td>83.72</td>\n",
       "    </tr>\n",
       "    <tr>\n",
       "      <th rowspan=\"2\" valign=\"top\">Pining for the Fisheries of Yore</th>\n",
       "      <th>GBP</th>\n",
       "      <td>140.53</td>\n",
       "    </tr>\n",
       "    <tr>\n",
       "      <th>USD</th>\n",
       "      <td>280.00</td>\n",
       "    </tr>\n",
       "    <tr>\n",
       "      <th rowspan=\"2\" valign=\"top\">Swimrand</th>\n",
       "      <th>EUR</th>\n",
       "      <td>15.92</td>\n",
       "    </tr>\n",
       "    <tr>\n",
       "      <th>USD</th>\n",
       "      <td>6.97</td>\n",
       "    </tr>\n",
       "    <tr>\n",
       "      <th rowspan=\"2\" valign=\"top\">The Bricklayer's Bible</th>\n",
       "      <th>GBP</th>\n",
       "      <td>50.83</td>\n",
       "    </tr>\n",
       "    <tr>\n",
       "      <th>USD</th>\n",
       "      <td>59.50</td>\n",
       "    </tr>\n",
       "    <tr>\n",
       "      <th>The Bricklayer’s Bible</th>\n",
       "      <th>USD</th>\n",
       "      <td>23.92</td>\n",
       "    </tr>\n",
       "    <tr>\n",
       "      <th rowspan=\"2\" valign=\"top\">The Duck Goes Here</th>\n",
       "      <th>EUR</th>\n",
       "      <td>23.88</td>\n",
       "    </tr>\n",
       "    <tr>\n",
       "      <th>USD</th>\n",
       "      <td>203.32</td>\n",
       "    </tr>\n",
       "    <tr>\n",
       "      <th rowspan=\"2\" valign=\"top\">The Tower Commission Report</th>\n",
       "      <th>GBP</th>\n",
       "      <td>26.00</td>\n",
       "    </tr>\n",
       "    <tr>\n",
       "      <th>USD</th>\n",
       "      <td>84.00</td>\n",
       "    </tr>\n",
       "  </tbody>\n",
       "</table>\n",
       "</div>"
      ],
      "text/plain": [
       "                                           total_paid\n",
       "title                            currency            \n",
       "Pining For The Fisheries of Yore USD            83.72\n",
       "Pining for the Fisheries of Yore GBP           140.53\n",
       "                                 USD           280.00\n",
       "Swimrand                         EUR            15.92\n",
       "                                 USD             6.97\n",
       "The Bricklayer's Bible           GBP            50.83\n",
       "                                 USD            59.50\n",
       "The Bricklayer’s Bible           USD            23.92\n",
       "The Duck Goes Here               EUR            23.88\n",
       "                                 USD           203.32\n",
       "The Tower Commission Report      GBP            26.00\n",
       "                                 USD            84.00"
      ]
     },
     "execution_count": 13,
     "metadata": {},
     "output_type": "execute_result"
    }
   ],
   "source": [
    "total_sales"
   ]
  },
  {
   "cell_type": "code",
   "execution_count": null,
   "metadata": {
    "collapsed": true
   },
   "outputs": [],
   "source": []
  }
 ],
 "metadata": {
  "kernelspec": {
   "display_name": "Python 3",
   "language": "python",
   "name": "python3"
  },
  "language_info": {
   "codemirror_mode": {
    "name": "ipython",
    "version": 3
   },
   "file_extension": ".py",
   "mimetype": "text/x-python",
   "name": "python",
   "nbconvert_exporter": "python",
   "pygments_lexer": "ipython3",
   "version": "3.4.4"
  }
 },
 "nbformat": 4,
 "nbformat_minor": 0
}
