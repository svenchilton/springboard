{
 "cells": [
  {
   "cell_type": "code",
   "execution_count": 1,
   "metadata": {
    "collapsed": false
   },
   "outputs": [],
   "source": [
    "%matplotlib inline\n",
    "import pandas as pd"
   ]
  },
  {
   "cell_type": "code",
   "execution_count": 2,
   "metadata": {
    "collapsed": false
   },
   "outputs": [
    {
     "data": {
      "text/html": [
       "<style>body {\n",
       "    margin: 0;\n",
       "    font-family: Helvetica;\n",
       "}\n",
       "table.dataframe {\n",
       "    border-collapse: collapse;\n",
       "    border: none;\n",
       "}\n",
       "table.dataframe tr {\n",
       "    border: none;\n",
       "}\n",
       "table.dataframe td, table.dataframe th {\n",
       "    margin: 0;\n",
       "    border: 1px solid white;\n",
       "    padding-left: 0.25em;\n",
       "    padding-right: 0.25em;\n",
       "}\n",
       "table.dataframe th:not(:empty) {\n",
       "    background-color: #fec;\n",
       "    text-align: left;\n",
       "    font-weight: normal;\n",
       "}\n",
       "table.dataframe tr:nth-child(2) th:empty {\n",
       "    border-left: none;\n",
       "    border-right: 1px dashed #888;\n",
       "}\n",
       "table.dataframe td {\n",
       "    border: 2px solid #ccf;\n",
       "    background-color: #f4f4ff;\n",
       "}\n",
       "h3 {\n",
       "    color: white;\n",
       "    background-color: black;\n",
       "    padding: 0.5em;\n",
       "}\n",
       "</style>"
      ],
      "text/plain": [
       "<IPython.core.display.HTML object>"
      ]
     },
     "execution_count": 2,
     "metadata": {},
     "output_type": "execute_result"
    }
   ],
   "source": [
    "from IPython.core.display import HTML\n",
    "css = open('style-table.css').read() + open('style-notebook.css').read()\n",
    "HTML('<style>{}</style>'.format(css))"
   ]
  },
  {
   "cell_type": "code",
   "execution_count": 3,
   "metadata": {
    "collapsed": false
   },
   "outputs": [
    {
     "data": {
      "text/html": [
       "<div>\n",
       "<table border=\"1\" class=\"dataframe\">\n",
       "  <thead>\n",
       "    <tr style=\"text-align: right;\">\n",
       "      <th></th>\n",
       "      <th>title</th>\n",
       "      <th>year</th>\n",
       "    </tr>\n",
       "  </thead>\n",
       "  <tbody>\n",
       "    <tr>\n",
       "      <th>0</th>\n",
       "      <td>X-Men Origins: Wolverine</td>\n",
       "      <td>2009</td>\n",
       "    </tr>\n",
       "    <tr>\n",
       "      <th>1</th>\n",
       "      <td>Feng liu mi yue</td>\n",
       "      <td>1994</td>\n",
       "    </tr>\n",
       "    <tr>\n",
       "      <th>2</th>\n",
       "      <td>Expiation</td>\n",
       "      <td>1922</td>\n",
       "    </tr>\n",
       "    <tr>\n",
       "      <th>3</th>\n",
       "      <td>Snap Judgment</td>\n",
       "      <td>1917</td>\n",
       "    </tr>\n",
       "    <tr>\n",
       "      <th>4</th>\n",
       "      <td>Kill Command</td>\n",
       "      <td>2016</td>\n",
       "    </tr>\n",
       "  </tbody>\n",
       "</table>\n",
       "</div>"
      ],
      "text/plain": [
       "                      title  year\n",
       "0  X-Men Origins: Wolverine  2009\n",
       "1           Feng liu mi yue  1994\n",
       "2                 Expiation  1922\n",
       "3             Snap Judgment  1917\n",
       "4              Kill Command  2016"
      ]
     },
     "execution_count": 3,
     "metadata": {},
     "output_type": "execute_result"
    }
   ],
   "source": [
    "titles = pd.DataFrame.from_csv('data/titles.csv', index_col=None)\n",
    "titles.head()"
   ]
  },
  {
   "cell_type": "code",
   "execution_count": 4,
   "metadata": {
    "collapsed": false
   },
   "outputs": [
    {
     "data": {
      "text/html": [
       "<div>\n",
       "<table border=\"1\" class=\"dataframe\">\n",
       "  <thead>\n",
       "    <tr style=\"text-align: right;\">\n",
       "      <th></th>\n",
       "      <th>title</th>\n",
       "      <th>year</th>\n",
       "      <th>name</th>\n",
       "      <th>type</th>\n",
       "      <th>character</th>\n",
       "      <th>n</th>\n",
       "    </tr>\n",
       "  </thead>\n",
       "  <tbody>\n",
       "    <tr>\n",
       "      <th>0</th>\n",
       "      <td>Suuri illusioni</td>\n",
       "      <td>1985</td>\n",
       "      <td>Homo $</td>\n",
       "      <td>actor</td>\n",
       "      <td>Guests</td>\n",
       "      <td>22.0</td>\n",
       "    </tr>\n",
       "    <tr>\n",
       "      <th>1</th>\n",
       "      <td>Battle of the Sexes</td>\n",
       "      <td>2017</td>\n",
       "      <td>$hutter</td>\n",
       "      <td>actor</td>\n",
       "      <td>Bobby Riggs Fan</td>\n",
       "      <td>10.0</td>\n",
       "    </tr>\n",
       "    <tr>\n",
       "      <th>2</th>\n",
       "      <td>Secret in Their Eyes</td>\n",
       "      <td>2015</td>\n",
       "      <td>$hutter</td>\n",
       "      <td>actor</td>\n",
       "      <td>2002 Dodger Fan</td>\n",
       "      <td>NaN</td>\n",
       "    </tr>\n",
       "    <tr>\n",
       "      <th>3</th>\n",
       "      <td>Steve Jobs</td>\n",
       "      <td>2015</td>\n",
       "      <td>$hutter</td>\n",
       "      <td>actor</td>\n",
       "      <td>1988 Opera House Patron</td>\n",
       "      <td>NaN</td>\n",
       "    </tr>\n",
       "    <tr>\n",
       "      <th>4</th>\n",
       "      <td>Straight Outta Compton</td>\n",
       "      <td>2015</td>\n",
       "      <td>$hutter</td>\n",
       "      <td>actor</td>\n",
       "      <td>Club Patron</td>\n",
       "      <td>NaN</td>\n",
       "    </tr>\n",
       "  </tbody>\n",
       "</table>\n",
       "</div>"
      ],
      "text/plain": [
       "                    title  year     name   type                character     n\n",
       "0         Suuri illusioni  1985   Homo $  actor                   Guests  22.0\n",
       "1     Battle of the Sexes  2017  $hutter  actor          Bobby Riggs Fan  10.0\n",
       "2    Secret in Their Eyes  2015  $hutter  actor          2002 Dodger Fan   NaN\n",
       "3              Steve Jobs  2015  $hutter  actor  1988 Opera House Patron   NaN\n",
       "4  Straight Outta Compton  2015  $hutter  actor              Club Patron   NaN"
      ]
     },
     "execution_count": 4,
     "metadata": {},
     "output_type": "execute_result"
    }
   ],
   "source": [
    "cast = pd.DataFrame.from_csv('data/cast.csv', index_col=None)\n",
    "cast.head()"
   ]
  },
  {
   "cell_type": "markdown",
   "metadata": {
    "collapsed": true
   },
   "source": [
    "### How many movies are listed in the titles dataframe?"
   ]
  },
  {
   "cell_type": "code",
   "execution_count": 5,
   "metadata": {
    "collapsed": false
   },
   "outputs": [
    {
     "data": {
      "text/plain": [
       "223499"
      ]
     },
     "execution_count": 5,
     "metadata": {},
     "output_type": "execute_result"
    }
   ],
   "source": [
    "num_movies = titles.shape[0]\n",
    "num_movies"
   ]
  },
  {
   "cell_type": "code",
   "execution_count": null,
   "metadata": {
    "collapsed": false
   },
   "outputs": [],
   "source": []
  },
  {
   "cell_type": "markdown",
   "metadata": {
    "collapsed": true
   },
   "source": [
    "### What are the earliest two films listed in the titles dataframe?"
   ]
  },
  {
   "cell_type": "code",
   "execution_count": 6,
   "metadata": {
    "collapsed": false
   },
   "outputs": [
    {
     "data": {
      "text/html": [
       "<div>\n",
       "<table border=\"1\" class=\"dataframe\">\n",
       "  <thead>\n",
       "    <tr style=\"text-align: right;\">\n",
       "      <th></th>\n",
       "      <th>title</th>\n",
       "      <th>year</th>\n",
       "    </tr>\n",
       "  </thead>\n",
       "  <tbody>\n",
       "    <tr>\n",
       "      <th>169199</th>\n",
       "      <td>Miss Jerry</td>\n",
       "      <td>1894</td>\n",
       "    </tr>\n",
       "    <tr>\n",
       "      <th>30624</th>\n",
       "      <td>Reproduction of the Corbett and Jeffries Fight</td>\n",
       "      <td>1899</td>\n",
       "    </tr>\n",
       "  </tbody>\n",
       "</table>\n",
       "</div>"
      ],
      "text/plain": [
       "                                                 title  year\n",
       "169199                                      Miss Jerry  1894\n",
       "30624   Reproduction of the Corbett and Jeffries Fight  1899"
      ]
     },
     "execution_count": 6,
     "metadata": {},
     "output_type": "execute_result"
    }
   ],
   "source": [
    "earliest_two_films = titles.sort_values('year', ascending=True).head(2)\n",
    "earliest_two_films"
   ]
  },
  {
   "cell_type": "code",
   "execution_count": null,
   "metadata": {
    "collapsed": true
   },
   "outputs": [],
   "source": []
  },
  {
   "cell_type": "markdown",
   "metadata": {
    "collapsed": true
   },
   "source": [
    "### How many movies have the title \"Hamlet\"?"
   ]
  },
  {
   "cell_type": "code",
   "execution_count": 7,
   "metadata": {
    "collapsed": false
   },
   "outputs": [
    {
     "data": {
      "text/plain": [
       "19"
      ]
     },
     "execution_count": 7,
     "metadata": {},
     "output_type": "execute_result"
    }
   ],
   "source": [
    "# Whoops, the command below lists the number of movies with \"Hamlet\" in the title\n",
    "#num_Hamlet_titles = titles[titles['title'].str.contains('Hamlet')].shape[0]\n",
    "num_Hamlet_titles = titles[titles['title'] == 'Hamlet'].shape[0]\n",
    "num_Hamlet_titles"
   ]
  },
  {
   "cell_type": "code",
   "execution_count": null,
   "metadata": {
    "collapsed": true
   },
   "outputs": [],
   "source": []
  },
  {
   "cell_type": "markdown",
   "metadata": {
    "collapsed": true
   },
   "source": [
    "### How many movies are titled \"North by Northwest\"?"
   ]
  },
  {
   "cell_type": "code",
   "execution_count": 8,
   "metadata": {
    "collapsed": false
   },
   "outputs": [
    {
     "data": {
      "text/plain": [
       "1"
      ]
     },
     "execution_count": 8,
     "metadata": {},
     "output_type": "execute_result"
    }
   ],
   "source": [
    "num_movies_titled_North_by_Northwest = titles[titles['title'] == 'North by Northwest'].shape[0]\n",
    "num_movies_titled_North_by_Northwest"
   ]
  },
  {
   "cell_type": "code",
   "execution_count": null,
   "metadata": {
    "collapsed": true
   },
   "outputs": [],
   "source": []
  },
  {
   "cell_type": "markdown",
   "metadata": {
    "collapsed": true
   },
   "source": [
    "### When was the first movie titled \"Hamlet\" made?"
   ]
  },
  {
   "cell_type": "code",
   "execution_count": 9,
   "metadata": {
    "collapsed": false
   },
   "outputs": [
    {
     "data": {
      "text/plain": [
       "1910"
      ]
     },
     "execution_count": 9,
     "metadata": {},
     "output_type": "execute_result"
    }
   ],
   "source": [
    "first_Hamlet_year = titles[titles['title'] == 'Hamlet'].sort_values('year')['year'].iloc[0]\n",
    "first_Hamlet_year"
   ]
  },
  {
   "cell_type": "code",
   "execution_count": null,
   "metadata": {
    "collapsed": true
   },
   "outputs": [],
   "source": []
  },
  {
   "cell_type": "markdown",
   "metadata": {
    "collapsed": true
   },
   "source": [
    "### List all of the \"Treasure Island\" movies from earliest to most recent."
   ]
  },
  {
   "cell_type": "code",
   "execution_count": 10,
   "metadata": {
    "collapsed": false
   },
   "outputs": [
    {
     "data": {
      "text/html": [
       "<div>\n",
       "<table border=\"1\" class=\"dataframe\">\n",
       "  <thead>\n",
       "    <tr style=\"text-align: right;\">\n",
       "      <th></th>\n",
       "      <th>title</th>\n",
       "      <th>year</th>\n",
       "    </tr>\n",
       "  </thead>\n",
       "  <tbody>\n",
       "    <tr>\n",
       "      <th>41386</th>\n",
       "      <td>Treasure Island</td>\n",
       "      <td>1918</td>\n",
       "    </tr>\n",
       "    <tr>\n",
       "      <th>182154</th>\n",
       "      <td>Treasure Island</td>\n",
       "      <td>1920</td>\n",
       "    </tr>\n",
       "    <tr>\n",
       "      <th>15341</th>\n",
       "      <td>Treasure Island</td>\n",
       "      <td>1934</td>\n",
       "    </tr>\n",
       "    <tr>\n",
       "      <th>21367</th>\n",
       "      <td>Treasure Island</td>\n",
       "      <td>1950</td>\n",
       "    </tr>\n",
       "    <tr>\n",
       "      <th>23000</th>\n",
       "      <td>Treasure Island</td>\n",
       "      <td>1972</td>\n",
       "    </tr>\n",
       "    <tr>\n",
       "      <th>14217</th>\n",
       "      <td>Treasure Island</td>\n",
       "      <td>1973</td>\n",
       "    </tr>\n",
       "    <tr>\n",
       "      <th>7891</th>\n",
       "      <td>Treasure Island</td>\n",
       "      <td>1985</td>\n",
       "    </tr>\n",
       "    <tr>\n",
       "      <th>104300</th>\n",
       "      <td>Treasure Island</td>\n",
       "      <td>1999</td>\n",
       "    </tr>\n",
       "  </tbody>\n",
       "</table>\n",
       "</div>"
      ],
      "text/plain": [
       "                  title  year\n",
       "41386   Treasure Island  1918\n",
       "182154  Treasure Island  1920\n",
       "15341   Treasure Island  1934\n",
       "21367   Treasure Island  1950\n",
       "23000   Treasure Island  1972\n",
       "14217   Treasure Island  1973\n",
       "7891    Treasure Island  1985\n",
       "104300  Treasure Island  1999"
      ]
     },
     "execution_count": 10,
     "metadata": {},
     "output_type": "execute_result"
    }
   ],
   "source": [
    "Treasure_Island_movies = titles[titles['title'] == 'Treasure Island'].sort_values('year')\n",
    "Treasure_Island_movies"
   ]
  },
  {
   "cell_type": "code",
   "execution_count": null,
   "metadata": {
    "collapsed": true
   },
   "outputs": [],
   "source": []
  },
  {
   "cell_type": "markdown",
   "metadata": {
    "collapsed": true
   },
   "source": [
    "### How many movies were made in the year 1950?"
   ]
  },
  {
   "cell_type": "code",
   "execution_count": 11,
   "metadata": {
    "collapsed": false
   },
   "outputs": [
    {
     "data": {
      "text/plain": [
       "1081"
      ]
     },
     "execution_count": 11,
     "metadata": {},
     "output_type": "execute_result"
    }
   ],
   "source": [
    "num_movies_1950 = titles[titles['year'] == 1950].shape[0]\n",
    "num_movies_1950"
   ]
  },
  {
   "cell_type": "code",
   "execution_count": null,
   "metadata": {
    "collapsed": true
   },
   "outputs": [],
   "source": []
  },
  {
   "cell_type": "markdown",
   "metadata": {
    "collapsed": true
   },
   "source": [
    "### How many movies were made in the year 1960?"
   ]
  },
  {
   "cell_type": "code",
   "execution_count": 12,
   "metadata": {
    "collapsed": false
   },
   "outputs": [
    {
     "data": {
      "text/plain": [
       "1487"
      ]
     },
     "execution_count": 12,
     "metadata": {},
     "output_type": "execute_result"
    }
   ],
   "source": [
    "num_movies_1960 = titles[titles['year'] == 1960].shape[0]\n",
    "num_movies_1960"
   ]
  },
  {
   "cell_type": "code",
   "execution_count": null,
   "metadata": {
    "collapsed": true
   },
   "outputs": [],
   "source": []
  },
  {
   "cell_type": "markdown",
   "metadata": {
    "collapsed": true
   },
   "source": [
    "### How many movies were made from 1950 through 1959?"
   ]
  },
  {
   "cell_type": "code",
   "execution_count": 13,
   "metadata": {
    "collapsed": false
   },
   "outputs": [
    {
     "data": {
      "text/plain": [
       "12340"
      ]
     },
     "execution_count": 13,
     "metadata": {},
     "output_type": "execute_result"
    }
   ],
   "source": [
    "num_movies_1950_thru_1959 = titles[(titles['year'] >= 1950) & (titles['year'] <= 1959)].shape[0]\n",
    "num_movies_1950_thru_1959"
   ]
  },
  {
   "cell_type": "code",
   "execution_count": null,
   "metadata": {
    "collapsed": true
   },
   "outputs": [],
   "source": []
  },
  {
   "cell_type": "markdown",
   "metadata": {
    "collapsed": true
   },
   "source": [
    "### In what years has a movie titled \"Batman\" been released?"
   ]
  },
  {
   "cell_type": "code",
   "execution_count": 14,
   "metadata": {
    "collapsed": false
   },
   "outputs": [
    {
     "data": {
      "text/plain": [
       "[1943, 1989]"
      ]
     },
     "execution_count": 14,
     "metadata": {},
     "output_type": "execute_result"
    }
   ],
   "source": [
    "Batman_years = titles[titles['title'] == 'Batman'].sort_values('year')['year'].tolist()\n",
    "Batman_years"
   ]
  },
  {
   "cell_type": "code",
   "execution_count": null,
   "metadata": {
    "collapsed": true
   },
   "outputs": [],
   "source": []
  },
  {
   "cell_type": "markdown",
   "metadata": {
    "collapsed": true
   },
   "source": [
    "### How many roles were there in the movie \"Inception\"?"
   ]
  },
  {
   "cell_type": "code",
   "execution_count": 15,
   "metadata": {
    "collapsed": false
   },
   "outputs": [
    {
     "data": {
      "text/plain": [
       "77"
      ]
     },
     "execution_count": 15,
     "metadata": {},
     "output_type": "execute_result"
    }
   ],
   "source": [
    "num_Inception_roles = cast[cast['title'] == 'Inception'].shape[0]\n",
    "num_Inception_roles"
   ]
  },
  {
   "cell_type": "code",
   "execution_count": null,
   "metadata": {
    "collapsed": true
   },
   "outputs": [],
   "source": []
  },
  {
   "cell_type": "markdown",
   "metadata": {
    "collapsed": true
   },
   "source": [
    "### How many roles in the movie \"Inception\" are NOT ranked by an \"n\" value?"
   ]
  },
  {
   "cell_type": "code",
   "execution_count": 16,
   "metadata": {
    "collapsed": false
   },
   "outputs": [
    {
     "data": {
      "text/plain": [
       "26"
      ]
     },
     "execution_count": 16,
     "metadata": {},
     "output_type": "execute_result"
    }
   ],
   "source": [
    "num_Inception_roles_ranked = cast[cast['title'] == 'Inception'].dropna().shape[0]\n",
    "num_Inception_roles_not_ranked = num_Inception_roles - num_Inception_roles_ranked\n",
    "num_Inception_roles_not_ranked"
   ]
  },
  {
   "cell_type": "code",
   "execution_count": null,
   "metadata": {
    "collapsed": true
   },
   "outputs": [],
   "source": []
  },
  {
   "cell_type": "markdown",
   "metadata": {
    "collapsed": true
   },
   "source": [
    "### But how many roles in the movie \"Inception\" did receive an \"n\" value?"
   ]
  },
  {
   "cell_type": "code",
   "execution_count": 17,
   "metadata": {
    "collapsed": false
   },
   "outputs": [
    {
     "data": {
      "text/plain": [
       "51"
      ]
     },
     "execution_count": 17,
     "metadata": {},
     "output_type": "execute_result"
    }
   ],
   "source": [
    "num_Inception_roles_ranked"
   ]
  },
  {
   "cell_type": "code",
   "execution_count": null,
   "metadata": {
    "collapsed": true
   },
   "outputs": [],
   "source": []
  },
  {
   "cell_type": "markdown",
   "metadata": {
    "collapsed": true
   },
   "source": [
    "### Display the cast of \"North by Northwest\" in their correct \"n\"-value order, ignoring roles that did not earn a numeric \"n\" value."
   ]
  },
  {
   "cell_type": "code",
   "execution_count": 18,
   "metadata": {
    "collapsed": false
   },
   "outputs": [
    {
     "data": {
      "text/html": [
       "<div>\n",
       "<table border=\"1\" class=\"dataframe\">\n",
       "  <thead>\n",
       "    <tr style=\"text-align: right;\">\n",
       "      <th></th>\n",
       "      <th>title</th>\n",
       "      <th>year</th>\n",
       "      <th>name</th>\n",
       "      <th>type</th>\n",
       "      <th>character</th>\n",
       "      <th>n</th>\n",
       "    </tr>\n",
       "  </thead>\n",
       "  <tbody>\n",
       "    <tr>\n",
       "      <th>810109</th>\n",
       "      <td>North by Northwest</td>\n",
       "      <td>1959</td>\n",
       "      <td>Cary Grant</td>\n",
       "      <td>actor</td>\n",
       "      <td>Roger O. Thornhill</td>\n",
       "      <td>1.0</td>\n",
       "    </tr>\n",
       "    <tr>\n",
       "      <th>3235971</th>\n",
       "      <td>North by Northwest</td>\n",
       "      <td>1959</td>\n",
       "      <td>Eva Marie Saint</td>\n",
       "      <td>actress</td>\n",
       "      <td>Eve Kendall</td>\n",
       "      <td>2.0</td>\n",
       "    </tr>\n",
       "    <tr>\n",
       "      <th>1354180</th>\n",
       "      <td>North by Northwest</td>\n",
       "      <td>1959</td>\n",
       "      <td>James Mason</td>\n",
       "      <td>actor</td>\n",
       "      <td>Phillip Vandamm</td>\n",
       "      <td>3.0</td>\n",
       "    </tr>\n",
       "    <tr>\n",
       "      <th>2911919</th>\n",
       "      <td>North by Northwest</td>\n",
       "      <td>1959</td>\n",
       "      <td>Jessie Royce Landis</td>\n",
       "      <td>actress</td>\n",
       "      <td>Clara Thornhill</td>\n",
       "      <td>4.0</td>\n",
       "    </tr>\n",
       "    <tr>\n",
       "      <th>330827</th>\n",
       "      <td>North by Northwest</td>\n",
       "      <td>1959</td>\n",
       "      <td>Leo G. Carroll</td>\n",
       "      <td>actor</td>\n",
       "      <td>The Professor</td>\n",
       "      <td>5.0</td>\n",
       "    </tr>\n",
       "    <tr>\n",
       "      <th>2815263</th>\n",
       "      <td>North by Northwest</td>\n",
       "      <td>1959</td>\n",
       "      <td>Josephine Hutchinson</td>\n",
       "      <td>actress</td>\n",
       "      <td>Mrs. Townsend</td>\n",
       "      <td>6.0</td>\n",
       "    </tr>\n",
       "    <tr>\n",
       "      <th>1576006</th>\n",
       "      <td>North by Northwest</td>\n",
       "      <td>1959</td>\n",
       "      <td>Philip Ober</td>\n",
       "      <td>actor</td>\n",
       "      <td>Lester Townsend</td>\n",
       "      <td>7.0</td>\n",
       "    </tr>\n",
       "    <tr>\n",
       "      <th>1184592</th>\n",
       "      <td>North by Northwest</td>\n",
       "      <td>1959</td>\n",
       "      <td>Martin Landau</td>\n",
       "      <td>actor</td>\n",
       "      <td>Leonard</td>\n",
       "      <td>8.0</td>\n",
       "    </tr>\n",
       "    <tr>\n",
       "      <th>2272380</th>\n",
       "      <td>North by Northwest</td>\n",
       "      <td>1959</td>\n",
       "      <td>Adam Williams</td>\n",
       "      <td>actor</td>\n",
       "      <td>Valerian</td>\n",
       "      <td>9.0</td>\n",
       "    </tr>\n",
       "    <tr>\n",
       "      <th>1683543</th>\n",
       "      <td>North by Northwest</td>\n",
       "      <td>1959</td>\n",
       "      <td>Edward Platt</td>\n",
       "      <td>actor</td>\n",
       "      <td>Victor Larrabee</td>\n",
       "      <td>10.0</td>\n",
       "    </tr>\n",
       "    <tr>\n",
       "      <th>618775</th>\n",
       "      <td>North by Northwest</td>\n",
       "      <td>1959</td>\n",
       "      <td>Robert Ellenstein</td>\n",
       "      <td>actor</td>\n",
       "      <td>Licht</td>\n",
       "      <td>11.0</td>\n",
       "    </tr>\n",
       "    <tr>\n",
       "      <th>2131821</th>\n",
       "      <td>North by Northwest</td>\n",
       "      <td>1959</td>\n",
       "      <td>Les Tremayne</td>\n",
       "      <td>actor</td>\n",
       "      <td>Auctioneer</td>\n",
       "      <td>12.0</td>\n",
       "    </tr>\n",
       "    <tr>\n",
       "      <th>431247</th>\n",
       "      <td>North by Northwest</td>\n",
       "      <td>1959</td>\n",
       "      <td>Philip Coolidge</td>\n",
       "      <td>actor</td>\n",
       "      <td>Dr. Cross</td>\n",
       "      <td>13.0</td>\n",
       "    </tr>\n",
       "    <tr>\n",
       "      <th>1402205</th>\n",
       "      <td>North by Northwest</td>\n",
       "      <td>1959</td>\n",
       "      <td>Patrick McVey</td>\n",
       "      <td>actor</td>\n",
       "      <td>Sergeant Flamm</td>\n",
       "      <td>14.0</td>\n",
       "    </tr>\n",
       "    <tr>\n",
       "      <th>190611</th>\n",
       "      <td>North by Northwest</td>\n",
       "      <td>1959</td>\n",
       "      <td>Edward Binns</td>\n",
       "      <td>actor</td>\n",
       "      <td>Captain Junket</td>\n",
       "      <td>15.0</td>\n",
       "    </tr>\n",
       "    <tr>\n",
       "      <th>1286691</th>\n",
       "      <td>North by Northwest</td>\n",
       "      <td>1959</td>\n",
       "      <td>Ken Lynch</td>\n",
       "      <td>actor</td>\n",
       "      <td>Charley - Chicago Policeman</td>\n",
       "      <td>16.0</td>\n",
       "    </tr>\n",
       "  </tbody>\n",
       "</table>\n",
       "</div>"
      ],
      "text/plain": [
       "                      title  year                  name     type  \\\n",
       "810109   North by Northwest  1959            Cary Grant    actor   \n",
       "3235971  North by Northwest  1959       Eva Marie Saint  actress   \n",
       "1354180  North by Northwest  1959           James Mason    actor   \n",
       "2911919  North by Northwest  1959   Jessie Royce Landis  actress   \n",
       "330827   North by Northwest  1959        Leo G. Carroll    actor   \n",
       "2815263  North by Northwest  1959  Josephine Hutchinson  actress   \n",
       "1576006  North by Northwest  1959           Philip Ober    actor   \n",
       "1184592  North by Northwest  1959         Martin Landau    actor   \n",
       "2272380  North by Northwest  1959         Adam Williams    actor   \n",
       "1683543  North by Northwest  1959          Edward Platt    actor   \n",
       "618775   North by Northwest  1959     Robert Ellenstein    actor   \n",
       "2131821  North by Northwest  1959          Les Tremayne    actor   \n",
       "431247   North by Northwest  1959       Philip Coolidge    actor   \n",
       "1402205  North by Northwest  1959         Patrick McVey    actor   \n",
       "190611   North by Northwest  1959          Edward Binns    actor   \n",
       "1286691  North by Northwest  1959             Ken Lynch    actor   \n",
       "\n",
       "                           character     n  \n",
       "810109            Roger O. Thornhill   1.0  \n",
       "3235971                  Eve Kendall   2.0  \n",
       "1354180              Phillip Vandamm   3.0  \n",
       "2911919              Clara Thornhill   4.0  \n",
       "330827                 The Professor   5.0  \n",
       "2815263                Mrs. Townsend   6.0  \n",
       "1576006              Lester Townsend   7.0  \n",
       "1184592                      Leonard   8.0  \n",
       "2272380                     Valerian   9.0  \n",
       "1683543              Victor Larrabee  10.0  \n",
       "618775                         Licht  11.0  \n",
       "2131821                   Auctioneer  12.0  \n",
       "431247                     Dr. Cross  13.0  \n",
       "1402205               Sergeant Flamm  14.0  \n",
       "190611                Captain Junket  15.0  \n",
       "1286691  Charley - Chicago Policeman  16.0  "
      ]
     },
     "execution_count": 18,
     "metadata": {},
     "output_type": "execute_result"
    }
   ],
   "source": [
    "cast[cast['title'] == 'North by Northwest'].dropna().sort_values('n')"
   ]
  },
  {
   "cell_type": "code",
   "execution_count": null,
   "metadata": {
    "collapsed": true
   },
   "outputs": [],
   "source": []
  },
  {
   "cell_type": "markdown",
   "metadata": {
    "collapsed": true
   },
   "source": [
    "### Display the entire cast, in \"n\"-order, of the 1972 film \"Sleuth\"."
   ]
  },
  {
   "cell_type": "code",
   "execution_count": 19,
   "metadata": {
    "collapsed": false
   },
   "outputs": [
    {
     "data": {
      "text/html": [
       "<div>\n",
       "<table border=\"1\" class=\"dataframe\">\n",
       "  <thead>\n",
       "    <tr style=\"text-align: right;\">\n",
       "      <th></th>\n",
       "      <th>title</th>\n",
       "      <th>year</th>\n",
       "      <th>name</th>\n",
       "      <th>type</th>\n",
       "      <th>character</th>\n",
       "      <th>n</th>\n",
       "    </tr>\n",
       "  </thead>\n",
       "  <tbody>\n",
       "    <tr>\n",
       "      <th>1585272</th>\n",
       "      <td>Sleuth</td>\n",
       "      <td>1972</td>\n",
       "      <td>Laurence Olivier</td>\n",
       "      <td>actor</td>\n",
       "      <td>Andrew Wyke</td>\n",
       "      <td>1.0</td>\n",
       "    </tr>\n",
       "    <tr>\n",
       "      <th>302918</th>\n",
       "      <td>Sleuth</td>\n",
       "      <td>1972</td>\n",
       "      <td>Michael Caine</td>\n",
       "      <td>actor</td>\n",
       "      <td>Milo Tindle</td>\n",
       "      <td>2.0</td>\n",
       "    </tr>\n",
       "    <tr>\n",
       "      <th>346900</th>\n",
       "      <td>Sleuth</td>\n",
       "      <td>1972</td>\n",
       "      <td>Alec Cawthorne</td>\n",
       "      <td>actor</td>\n",
       "      <td>Inspector Doppler</td>\n",
       "      <td>3.0</td>\n",
       "    </tr>\n",
       "    <tr>\n",
       "      <th>1361812</th>\n",
       "      <td>Sleuth</td>\n",
       "      <td>1972</td>\n",
       "      <td>John (II) Matthews</td>\n",
       "      <td>actor</td>\n",
       "      <td>Detective Sergeant Tarrant</td>\n",
       "      <td>4.0</td>\n",
       "    </tr>\n",
       "    <tr>\n",
       "      <th>2523593</th>\n",
       "      <td>Sleuth</td>\n",
       "      <td>1972</td>\n",
       "      <td>Eve (III) Channing</td>\n",
       "      <td>actress</td>\n",
       "      <td>Marguerite Wyke</td>\n",
       "      <td>5.0</td>\n",
       "    </tr>\n",
       "    <tr>\n",
       "      <th>1346399</th>\n",
       "      <td>Sleuth</td>\n",
       "      <td>1972</td>\n",
       "      <td>Teddy Martin</td>\n",
       "      <td>actor</td>\n",
       "      <td>Police Constable Higgs</td>\n",
       "      <td>6.0</td>\n",
       "    </tr>\n",
       "  </tbody>\n",
       "</table>\n",
       "</div>"
      ],
      "text/plain": [
       "          title  year                name     type  \\\n",
       "1585272  Sleuth  1972    Laurence Olivier    actor   \n",
       "302918   Sleuth  1972       Michael Caine    actor   \n",
       "346900   Sleuth  1972      Alec Cawthorne    actor   \n",
       "1361812  Sleuth  1972  John (II) Matthews    actor   \n",
       "2523593  Sleuth  1972  Eve (III) Channing  actress   \n",
       "1346399  Sleuth  1972        Teddy Martin    actor   \n",
       "\n",
       "                          character    n  \n",
       "1585272                 Andrew Wyke  1.0  \n",
       "302918                  Milo Tindle  2.0  \n",
       "346900            Inspector Doppler  3.0  \n",
       "1361812  Detective Sergeant Tarrant  4.0  \n",
       "2523593             Marguerite Wyke  5.0  \n",
       "1346399      Police Constable Higgs  6.0  "
      ]
     },
     "execution_count": 19,
     "metadata": {},
     "output_type": "execute_result"
    }
   ],
   "source": [
    "cast[(cast['title'] == 'Sleuth') & (cast['year'] == 1972)].sort_values('n')"
   ]
  },
  {
   "cell_type": "code",
   "execution_count": null,
   "metadata": {
    "collapsed": true
   },
   "outputs": [],
   "source": []
  },
  {
   "cell_type": "markdown",
   "metadata": {
    "collapsed": true
   },
   "source": [
    "### Now display the entire cast, in \"n\"-order, of the 2007 version of \"Sleuth\"."
   ]
  },
  {
   "cell_type": "code",
   "execution_count": 20,
   "metadata": {
    "collapsed": false
   },
   "outputs": [
    {
     "data": {
      "text/html": [
       "<div>\n",
       "<table border=\"1\" class=\"dataframe\">\n",
       "  <thead>\n",
       "    <tr style=\"text-align: right;\">\n",
       "      <th></th>\n",
       "      <th>title</th>\n",
       "      <th>year</th>\n",
       "      <th>name</th>\n",
       "      <th>type</th>\n",
       "      <th>character</th>\n",
       "      <th>n</th>\n",
       "    </tr>\n",
       "  </thead>\n",
       "  <tbody>\n",
       "    <tr>\n",
       "      <th>302919</th>\n",
       "      <td>Sleuth</td>\n",
       "      <td>2007</td>\n",
       "      <td>Michael Caine</td>\n",
       "      <td>actor</td>\n",
       "      <td>Andrew</td>\n",
       "      <td>1.0</td>\n",
       "    </tr>\n",
       "    <tr>\n",
       "      <th>1201800</th>\n",
       "      <td>Sleuth</td>\n",
       "      <td>2007</td>\n",
       "      <td>Jude Law</td>\n",
       "      <td>actor</td>\n",
       "      <td>Milo</td>\n",
       "      <td>2.0</td>\n",
       "    </tr>\n",
       "    <tr>\n",
       "      <th>1678498</th>\n",
       "      <td>Sleuth</td>\n",
       "      <td>2007</td>\n",
       "      <td>Harold Pinter</td>\n",
       "      <td>actor</td>\n",
       "      <td>Man on T.V.</td>\n",
       "      <td>3.0</td>\n",
       "    </tr>\n",
       "    <tr>\n",
       "      <th>240674</th>\n",
       "      <td>Sleuth</td>\n",
       "      <td>2007</td>\n",
       "      <td>Kenneth Branagh</td>\n",
       "      <td>actor</td>\n",
       "      <td>Other Man on T.V.</td>\n",
       "      <td>NaN</td>\n",
       "    </tr>\n",
       "    <tr>\n",
       "      <th>346901</th>\n",
       "      <td>Sleuth</td>\n",
       "      <td>2007</td>\n",
       "      <td>Alec (II) Cawthorne</td>\n",
       "      <td>actor</td>\n",
       "      <td>Inspector Doppler</td>\n",
       "      <td>NaN</td>\n",
       "    </tr>\n",
       "    <tr>\n",
       "      <th>2523592</th>\n",
       "      <td>Sleuth</td>\n",
       "      <td>2007</td>\n",
       "      <td>Eve (II) Channing</td>\n",
       "      <td>actress</td>\n",
       "      <td>Marguerite Wyke</td>\n",
       "      <td>NaN</td>\n",
       "    </tr>\n",
       "    <tr>\n",
       "      <th>3103659</th>\n",
       "      <td>Sleuth</td>\n",
       "      <td>2007</td>\n",
       "      <td>Carmel O'Sullivan</td>\n",
       "      <td>actress</td>\n",
       "      <td>Maggie</td>\n",
       "      <td>NaN</td>\n",
       "    </tr>\n",
       "  </tbody>\n",
       "</table>\n",
       "</div>"
      ],
      "text/plain": [
       "          title  year                 name     type          character    n\n",
       "302919   Sleuth  2007        Michael Caine    actor             Andrew  1.0\n",
       "1201800  Sleuth  2007             Jude Law    actor               Milo  2.0\n",
       "1678498  Sleuth  2007        Harold Pinter    actor        Man on T.V.  3.0\n",
       "240674   Sleuth  2007      Kenneth Branagh    actor  Other Man on T.V.  NaN\n",
       "346901   Sleuth  2007  Alec (II) Cawthorne    actor  Inspector Doppler  NaN\n",
       "2523592  Sleuth  2007    Eve (II) Channing  actress    Marguerite Wyke  NaN\n",
       "3103659  Sleuth  2007    Carmel O'Sullivan  actress             Maggie  NaN"
      ]
     },
     "execution_count": 20,
     "metadata": {},
     "output_type": "execute_result"
    }
   ],
   "source": [
    "cast[(cast['title'] == 'Sleuth') & (cast['year'] == 2007)].sort_values('n')"
   ]
  },
  {
   "cell_type": "code",
   "execution_count": null,
   "metadata": {
    "collapsed": true
   },
   "outputs": [],
   "source": []
  },
  {
   "cell_type": "markdown",
   "metadata": {
    "collapsed": true
   },
   "source": [
    "### How many roles were credited in the silent 1921 version of Hamlet?"
   ]
  },
  {
   "cell_type": "code",
   "execution_count": 21,
   "metadata": {
    "collapsed": false
   },
   "outputs": [
    {
     "data": {
      "text/plain": [
       "9"
      ]
     },
     "execution_count": 21,
     "metadata": {},
     "output_type": "execute_result"
    }
   ],
   "source": [
    "num_1921_Hamlet_credited_roles = cast[(cast['title'] == 'Hamlet') & (cast['year'] == 1921)].shape[0]\n",
    "num_1921_Hamlet_credited_roles"
   ]
  },
  {
   "cell_type": "code",
   "execution_count": null,
   "metadata": {
    "collapsed": true
   },
   "outputs": [],
   "source": []
  },
  {
   "cell_type": "markdown",
   "metadata": {
    "collapsed": true
   },
   "source": [
    "### How many roles were credited in Branagh’s 1996 Hamlet?"
   ]
  },
  {
   "cell_type": "code",
   "execution_count": 22,
   "metadata": {
    "collapsed": false
   },
   "outputs": [
    {
     "data": {
      "text/plain": [
       "54"
      ]
     },
     "execution_count": 22,
     "metadata": {},
     "output_type": "execute_result"
    }
   ],
   "source": [
    "num_1996_Hamlet_credited_roles = cast[(cast['title'] == 'Hamlet') & (cast['year'] == 1996)].shape[0]\n",
    "num_1996_Hamlet_credited_roles"
   ]
  },
  {
   "cell_type": "code",
   "execution_count": null,
   "metadata": {
    "collapsed": true
   },
   "outputs": [],
   "source": []
  },
  {
   "cell_type": "markdown",
   "metadata": {
    "collapsed": true
   },
   "source": [
    "### How many \"Hamlet\" roles have been listed in all film credits through history?"
   ]
  },
  {
   "cell_type": "code",
   "execution_count": 23,
   "metadata": {
    "collapsed": false
   },
   "outputs": [
    {
     "data": {
      "text/plain": [
       "88"
      ]
     },
     "execution_count": 23,
     "metadata": {},
     "output_type": "execute_result"
    }
   ],
   "source": [
    "num_characters_named_Hamlet = cast[cast['character'] == 'Hamlet'].shape[0]\n",
    "num_characters_named_Hamlet"
   ]
  },
  {
   "cell_type": "code",
   "execution_count": 24,
   "metadata": {
    "collapsed": false
   },
   "outputs": [
    {
     "data": {
      "text/plain": [
       "313"
      ]
     },
     "execution_count": 24,
     "metadata": {},
     "output_type": "execute_result"
    }
   ],
   "source": [
    "num_roles_in_movies_titled_Hamlet = cast[cast['title'] == 'Hamlet'].shape[0]\n",
    "num_roles_in_movies_titled_Hamlet"
   ]
  },
  {
   "cell_type": "code",
   "execution_count": null,
   "metadata": {
    "collapsed": true
   },
   "outputs": [],
   "source": []
  },
  {
   "cell_type": "markdown",
   "metadata": {
    "collapsed": true
   },
   "source": [
    "### How many people have played an \"Ophelia\"?"
   ]
  },
  {
   "cell_type": "code",
   "execution_count": 25,
   "metadata": {
    "collapsed": false
   },
   "outputs": [
    {
     "data": {
      "text/plain": [
       "101"
      ]
     },
     "execution_count": 25,
     "metadata": {},
     "output_type": "execute_result"
    }
   ],
   "source": [
    "# Turning the filtered DataFrame into a set will ensure that any actress who has played Ophelia is counted only once \n",
    "num_people_played_Ophelia = len(set(cast[cast['character'] == 'Ophelia']['name']))\n",
    "num_people_played_Ophelia"
   ]
  },
  {
   "cell_type": "code",
   "execution_count": null,
   "metadata": {
    "collapsed": true
   },
   "outputs": [],
   "source": []
  },
  {
   "cell_type": "markdown",
   "metadata": {
    "collapsed": true
   },
   "source": [
    "### How many people have played a role called \"The Dude\"?"
   ]
  },
  {
   "cell_type": "code",
   "execution_count": 26,
   "metadata": {
    "collapsed": false
   },
   "outputs": [
    {
     "data": {
      "text/plain": [
       "17"
      ]
     },
     "execution_count": 26,
     "metadata": {},
     "output_type": "execute_result"
    }
   ],
   "source": [
    "num_people_played_The_Dude = len(set(cast[cast['character'] == 'The Dude']['name']))\n",
    "num_people_played_The_Dude"
   ]
  },
  {
   "cell_type": "code",
   "execution_count": 27,
   "metadata": {
    "collapsed": false
   },
   "outputs": [
    {
     "data": {
      "text/html": [
       "<div>\n",
       "<table border=\"1\" class=\"dataframe\">\n",
       "  <thead>\n",
       "    <tr style=\"text-align: right;\">\n",
       "      <th></th>\n",
       "      <th>title</th>\n",
       "      <th>year</th>\n",
       "      <th>name</th>\n",
       "      <th>type</th>\n",
       "      <th>character</th>\n",
       "      <th>n</th>\n",
       "    </tr>\n",
       "  </thead>\n",
       "  <tbody>\n",
       "    <tr>\n",
       "      <th>251824</th>\n",
       "      <td>The Big Lebowski</td>\n",
       "      <td>1998</td>\n",
       "      <td>Jeff Bridges</td>\n",
       "      <td>actor</td>\n",
       "      <td>The Dude</td>\n",
       "      <td>1.0</td>\n",
       "    </tr>\n",
       "    <tr>\n",
       "      <th>314660</th>\n",
       "      <td>Terms &amp; Conditions</td>\n",
       "      <td>2015</td>\n",
       "      <td>Jordan Cann</td>\n",
       "      <td>actor</td>\n",
       "      <td>The Dude</td>\n",
       "      <td>9.0</td>\n",
       "    </tr>\n",
       "    <tr>\n",
       "      <th>463198</th>\n",
       "      <td>Stranger</td>\n",
       "      <td>2000</td>\n",
       "      <td>Scott Crowell</td>\n",
       "      <td>actor</td>\n",
       "      <td>The Dude</td>\n",
       "      <td>NaN</td>\n",
       "    </tr>\n",
       "    <tr>\n",
       "      <th>529862</th>\n",
       "      <td>Pizza Man vs. the Dude</td>\n",
       "      <td>2004</td>\n",
       "      <td>Chris DeMarcus</td>\n",
       "      <td>actor</td>\n",
       "      <td>The Dude</td>\n",
       "      <td>NaN</td>\n",
       "    </tr>\n",
       "    <tr>\n",
       "      <th>567491</th>\n",
       "      <td>Sweepstakes</td>\n",
       "      <td>1931</td>\n",
       "      <td>Mike Donlin</td>\n",
       "      <td>actor</td>\n",
       "      <td>The Dude</td>\n",
       "      <td>12.0</td>\n",
       "    </tr>\n",
       "    <tr>\n",
       "      <th>585063</th>\n",
       "      <td>Self Helpless</td>\n",
       "      <td>2010</td>\n",
       "      <td>Devin The Dude</td>\n",
       "      <td>actor</td>\n",
       "      <td>The Dude</td>\n",
       "      <td>NaN</td>\n",
       "    </tr>\n",
       "    <tr>\n",
       "      <th>1013742</th>\n",
       "      <td>Jay and Silent Bob Strike Back</td>\n",
       "      <td>2001</td>\n",
       "      <td>Matthew (XIX) James</td>\n",
       "      <td>actor</td>\n",
       "      <td>The Dude</td>\n",
       "      <td>37.0</td>\n",
       "    </tr>\n",
       "    <tr>\n",
       "      <th>1059216</th>\n",
       "      <td>Explicit Ills</td>\n",
       "      <td>2008</td>\n",
       "      <td>Christopher Kadish</td>\n",
       "      <td>actor</td>\n",
       "      <td>The Dude</td>\n",
       "      <td>27.0</td>\n",
       "    </tr>\n",
       "    <tr>\n",
       "      <th>1270294</th>\n",
       "      <td>American Idiots</td>\n",
       "      <td>2013</td>\n",
       "      <td>Jason Loughridge</td>\n",
       "      <td>actor</td>\n",
       "      <td>The Dude</td>\n",
       "      <td>10.0</td>\n",
       "    </tr>\n",
       "    <tr>\n",
       "      <th>1288408</th>\n",
       "      <td>The Winds of Autumn</td>\n",
       "      <td>1976</td>\n",
       "      <td>Steve Lyons</td>\n",
       "      <td>actor</td>\n",
       "      <td>The Dude</td>\n",
       "      <td>30.0</td>\n",
       "    </tr>\n",
       "    <tr>\n",
       "      <th>1406179</th>\n",
       "      <td>The Liq</td>\n",
       "      <td>2016</td>\n",
       "      <td>Mark Alan Meek</td>\n",
       "      <td>actor</td>\n",
       "      <td>The Dude</td>\n",
       "      <td>NaN</td>\n",
       "    </tr>\n",
       "    <tr>\n",
       "      <th>1432508</th>\n",
       "      <td>Wild Oats Lane</td>\n",
       "      <td>1926</td>\n",
       "      <td>Jerry Miley</td>\n",
       "      <td>actor</td>\n",
       "      <td>The Dude</td>\n",
       "      <td>6.0</td>\n",
       "    </tr>\n",
       "    <tr>\n",
       "      <th>1658550</th>\n",
       "      <td>Oklahoma Badlands</td>\n",
       "      <td>1948</td>\n",
       "      <td>House Peters Jr.</td>\n",
       "      <td>actor</td>\n",
       "      <td>The Dude</td>\n",
       "      <td>13.0</td>\n",
       "    </tr>\n",
       "    <tr>\n",
       "      <th>1709071</th>\n",
       "      <td>Hacks</td>\n",
       "      <td>1997</td>\n",
       "      <td>Jason Priestley</td>\n",
       "      <td>actor</td>\n",
       "      <td>The Dude</td>\n",
       "      <td>11.0</td>\n",
       "    </tr>\n",
       "    <tr>\n",
       "      <th>2045534</th>\n",
       "      <td>Carlos Spills the Beans</td>\n",
       "      <td>2012</td>\n",
       "      <td>Bobby Styles</td>\n",
       "      <td>actor</td>\n",
       "      <td>The Dude</td>\n",
       "      <td>NaN</td>\n",
       "    </tr>\n",
       "    <tr>\n",
       "      <th>2169113</th>\n",
       "      <td>Zachariah</td>\n",
       "      <td>1971</td>\n",
       "      <td>Dick Van Patten</td>\n",
       "      <td>actor</td>\n",
       "      <td>The Dude</td>\n",
       "      <td>9.0</td>\n",
       "    </tr>\n",
       "    <tr>\n",
       "      <th>2246242</th>\n",
       "      <td>It Can Be Arranged</td>\n",
       "      <td>2010</td>\n",
       "      <td>Joel Weiss</td>\n",
       "      <td>actor</td>\n",
       "      <td>The Dude</td>\n",
       "      <td>NaN</td>\n",
       "    </tr>\n",
       "  </tbody>\n",
       "</table>\n",
       "</div>"
      ],
      "text/plain": [
       "                                  title  year                 name   type  \\\n",
       "251824                 The Big Lebowski  1998         Jeff Bridges  actor   \n",
       "314660               Terms & Conditions  2015          Jordan Cann  actor   \n",
       "463198                         Stranger  2000        Scott Crowell  actor   \n",
       "529862           Pizza Man vs. the Dude  2004       Chris DeMarcus  actor   \n",
       "567491                      Sweepstakes  1931          Mike Donlin  actor   \n",
       "585063                    Self Helpless  2010       Devin The Dude  actor   \n",
       "1013742  Jay and Silent Bob Strike Back  2001  Matthew (XIX) James  actor   \n",
       "1059216                   Explicit Ills  2008   Christopher Kadish  actor   \n",
       "1270294                 American Idiots  2013     Jason Loughridge  actor   \n",
       "1288408             The Winds of Autumn  1976          Steve Lyons  actor   \n",
       "1406179                         The Liq  2016       Mark Alan Meek  actor   \n",
       "1432508                  Wild Oats Lane  1926          Jerry Miley  actor   \n",
       "1658550               Oklahoma Badlands  1948     House Peters Jr.  actor   \n",
       "1709071                           Hacks  1997      Jason Priestley  actor   \n",
       "2045534         Carlos Spills the Beans  2012         Bobby Styles  actor   \n",
       "2169113                       Zachariah  1971      Dick Van Patten  actor   \n",
       "2246242              It Can Be Arranged  2010           Joel Weiss  actor   \n",
       "\n",
       "        character     n  \n",
       "251824   The Dude   1.0  \n",
       "314660   The Dude   9.0  \n",
       "463198   The Dude   NaN  \n",
       "529862   The Dude   NaN  \n",
       "567491   The Dude  12.0  \n",
       "585063   The Dude   NaN  \n",
       "1013742  The Dude  37.0  \n",
       "1059216  The Dude  27.0  \n",
       "1270294  The Dude  10.0  \n",
       "1288408  The Dude  30.0  \n",
       "1406179  The Dude   NaN  \n",
       "1432508  The Dude   6.0  \n",
       "1658550  The Dude  13.0  \n",
       "1709071  The Dude  11.0  \n",
       "2045534  The Dude   NaN  \n",
       "2169113  The Dude   9.0  \n",
       "2246242  The Dude   NaN  "
      ]
     },
     "execution_count": 27,
     "metadata": {},
     "output_type": "execute_result"
    }
   ],
   "source": [
    "# Really?  That many people have played a character named \"The Dude\"?!?  Let's see them.\n",
    "cast[cast['character'] == 'The Dude']"
   ]
  },
  {
   "cell_type": "code",
   "execution_count": null,
   "metadata": {
    "collapsed": true
   },
   "outputs": [],
   "source": []
  },
  {
   "cell_type": "markdown",
   "metadata": {
    "collapsed": true
   },
   "source": [
    "### How many people have played a role called \"The Stranger\"?"
   ]
  },
  {
   "cell_type": "code",
   "execution_count": 28,
   "metadata": {
    "collapsed": false
   },
   "outputs": [
    {
     "data": {
      "text/plain": [
       "194"
      ]
     },
     "execution_count": 28,
     "metadata": {},
     "output_type": "execute_result"
    }
   ],
   "source": [
    "num_people_played_The_Stranger = len(set(cast[cast['character'] == 'The Stranger']['name']))\n",
    "num_people_played_The_Stranger"
   ]
  },
  {
   "cell_type": "code",
   "execution_count": null,
   "metadata": {
    "collapsed": true
   },
   "outputs": [],
   "source": []
  },
  {
   "cell_type": "markdown",
   "metadata": {
    "collapsed": true
   },
   "source": [
    "### How many roles has Sidney Poitier played throughout his career?"
   ]
  },
  {
   "cell_type": "code",
   "execution_count": 29,
   "metadata": {
    "collapsed": false
   },
   "outputs": [
    {
     "data": {
      "text/plain": [
       "43"
      ]
     },
     "execution_count": 29,
     "metadata": {},
     "output_type": "execute_result"
    }
   ],
   "source": [
    "num_Sidney_Poitier_roles = cast[cast['name'] == 'Sidney Poitier'].shape[0]\n",
    "num_Sidney_Poitier_roles"
   ]
  },
  {
   "cell_type": "code",
   "execution_count": null,
   "metadata": {
    "collapsed": true
   },
   "outputs": [],
   "source": []
  },
  {
   "cell_type": "markdown",
   "metadata": {
    "collapsed": true
   },
   "source": [
    "### How many roles has Judi Dench played?"
   ]
  },
  {
   "cell_type": "code",
   "execution_count": 30,
   "metadata": {
    "collapsed": false
   },
   "outputs": [
    {
     "data": {
      "text/plain": [
       "53"
      ]
     },
     "execution_count": 30,
     "metadata": {},
     "output_type": "execute_result"
    }
   ],
   "source": [
    "num_Judi_Dench_roles = cast[cast['name'] == 'Judi Dench'].shape[0]\n",
    "num_Judi_Dench_roles"
   ]
  },
  {
   "cell_type": "code",
   "execution_count": null,
   "metadata": {
    "collapsed": true
   },
   "outputs": [],
   "source": []
  },
  {
   "cell_type": "markdown",
   "metadata": {
    "collapsed": true
   },
   "source": [
    "### List the supporting roles (having n=2) played by Cary Grant in the 1940s, in order by year."
   ]
  },
  {
   "cell_type": "code",
   "execution_count": 31,
   "metadata": {
    "collapsed": false
   },
   "outputs": [
    {
     "data": {
      "text/html": [
       "<div>\n",
       "<table border=\"1\" class=\"dataframe\">\n",
       "  <thead>\n",
       "    <tr style=\"text-align: right;\">\n",
       "      <th></th>\n",
       "      <th>title</th>\n",
       "      <th>year</th>\n",
       "      <th>name</th>\n",
       "      <th>type</th>\n",
       "      <th>character</th>\n",
       "      <th>n</th>\n",
       "    </tr>\n",
       "  </thead>\n",
       "  <tbody>\n",
       "    <tr>\n",
       "      <th>810106</th>\n",
       "      <td>My Favorite Wife</td>\n",
       "      <td>1940</td>\n",
       "      <td>Cary Grant</td>\n",
       "      <td>actor</td>\n",
       "      <td>Nick</td>\n",
       "      <td>2.0</td>\n",
       "    </tr>\n",
       "    <tr>\n",
       "      <th>810116</th>\n",
       "      <td>Penny Serenade</td>\n",
       "      <td>1941</td>\n",
       "      <td>Cary Grant</td>\n",
       "      <td>actor</td>\n",
       "      <td>Roger Adams</td>\n",
       "      <td>2.0</td>\n",
       "    </tr>\n",
       "  </tbody>\n",
       "</table>\n",
       "</div>"
      ],
      "text/plain": [
       "                   title  year        name   type    character    n\n",
       "810106  My Favorite Wife  1940  Cary Grant  actor         Nick  2.0\n",
       "810116    Penny Serenade  1941  Cary Grant  actor  Roger Adams  2.0"
      ]
     },
     "execution_count": 31,
     "metadata": {},
     "output_type": "execute_result"
    }
   ],
   "source": [
    "Cary_Grant_1940s_n2_supporting_roles = cast[(cast['name'] == 'Cary Grant') &\n",
    "                                            (cast['n'] == 2) & \n",
    "                                            (cast['year'] >= 1940) & \n",
    "                                            (cast['year'] <= 1949)].sort_values('year')\n",
    "Cary_Grant_1940s_n2_supporting_roles"
   ]
  },
  {
   "cell_type": "code",
   "execution_count": null,
   "metadata": {
    "collapsed": true
   },
   "outputs": [],
   "source": []
  },
  {
   "cell_type": "markdown",
   "metadata": {
    "collapsed": true
   },
   "source": [
    "### List the leading roles that Cary Grant played in the 1940s in order by year."
   ]
  },
  {
   "cell_type": "code",
   "execution_count": 32,
   "metadata": {
    "collapsed": false
   },
   "outputs": [
    {
     "data": {
      "text/html": [
       "<div>\n",
       "<table border=\"1\" class=\"dataframe\">\n",
       "  <thead>\n",
       "    <tr style=\"text-align: right;\">\n",
       "      <th></th>\n",
       "      <th>title</th>\n",
       "      <th>year</th>\n",
       "      <th>name</th>\n",
       "      <th>type</th>\n",
       "      <th>character</th>\n",
       "      <th>n</th>\n",
       "    </tr>\n",
       "  </thead>\n",
       "  <tbody>\n",
       "    <tr>\n",
       "      <th>810131</th>\n",
       "      <td>The Howards of Virginia</td>\n",
       "      <td>1940</td>\n",
       "      <td>Cary Grant</td>\n",
       "      <td>actor</td>\n",
       "      <td>Matt Howard</td>\n",
       "      <td>1.0</td>\n",
       "    </tr>\n",
       "    <tr>\n",
       "      <th>810088</th>\n",
       "      <td>His Girl Friday</td>\n",
       "      <td>1940</td>\n",
       "      <td>Cary Grant</td>\n",
       "      <td>actor</td>\n",
       "      <td>Walter Burns</td>\n",
       "      <td>1.0</td>\n",
       "    </tr>\n",
       "    <tr>\n",
       "      <th>810133</th>\n",
       "      <td>The Philadelphia Story</td>\n",
       "      <td>1940</td>\n",
       "      <td>Cary Grant</td>\n",
       "      <td>actor</td>\n",
       "      <td>C. K. Dexter Haven</td>\n",
       "      <td>1.0</td>\n",
       "    </tr>\n",
       "    <tr>\n",
       "      <th>810121</th>\n",
       "      <td>Suspicion</td>\n",
       "      <td>1941</td>\n",
       "      <td>Cary Grant</td>\n",
       "      <td>actor</td>\n",
       "      <td>Johnnie</td>\n",
       "      <td>1.0</td>\n",
       "    </tr>\n",
       "    <tr>\n",
       "      <th>810135</th>\n",
       "      <td>The Talk of the Town</td>\n",
       "      <td>1942</td>\n",
       "      <td>Cary Grant</td>\n",
       "      <td>actor</td>\n",
       "      <td>Leopold Dilg</td>\n",
       "      <td>1.0</td>\n",
       "    </tr>\n",
       "    <tr>\n",
       "      <th>810112</th>\n",
       "      <td>Once Upon a Honeymoon</td>\n",
       "      <td>1942</td>\n",
       "      <td>Cary Grant</td>\n",
       "      <td>actor</td>\n",
       "      <td>Patrick 'Pat' O'Toole</td>\n",
       "      <td>1.0</td>\n",
       "    </tr>\n",
       "    <tr>\n",
       "      <th>810079</th>\n",
       "      <td>Destination Tokyo</td>\n",
       "      <td>1943</td>\n",
       "      <td>Cary Grant</td>\n",
       "      <td>actor</td>\n",
       "      <td>Capt. Cassidy</td>\n",
       "      <td>1.0</td>\n",
       "    </tr>\n",
       "    <tr>\n",
       "      <th>810104</th>\n",
       "      <td>Mr. Lucky</td>\n",
       "      <td>1943</td>\n",
       "      <td>Cary Grant</td>\n",
       "      <td>actor</td>\n",
       "      <td>Joe Adams</td>\n",
       "      <td>1.0</td>\n",
       "    </tr>\n",
       "    <tr>\n",
       "      <th>810105</th>\n",
       "      <td>Mr. Lucky</td>\n",
       "      <td>1943</td>\n",
       "      <td>Cary Grant</td>\n",
       "      <td>actor</td>\n",
       "      <td>Joe Bascopolous</td>\n",
       "      <td>1.0</td>\n",
       "    </tr>\n",
       "    <tr>\n",
       "      <th>810113</th>\n",
       "      <td>Once Upon a Time</td>\n",
       "      <td>1944</td>\n",
       "      <td>Cary Grant</td>\n",
       "      <td>actor</td>\n",
       "      <td>Jerry Flynn</td>\n",
       "      <td>1.0</td>\n",
       "    </tr>\n",
       "    <tr>\n",
       "      <th>810071</th>\n",
       "      <td>Arsenic and Old Lace</td>\n",
       "      <td>1944</td>\n",
       "      <td>Cary Grant</td>\n",
       "      <td>actor</td>\n",
       "      <td>Mortimer Brewster</td>\n",
       "      <td>1.0</td>\n",
       "    </tr>\n",
       "    <tr>\n",
       "      <th>810108</th>\n",
       "      <td>None But the Lonely Heart</td>\n",
       "      <td>1944</td>\n",
       "      <td>Cary Grant</td>\n",
       "      <td>actor</td>\n",
       "      <td>Ernie Mott</td>\n",
       "      <td>1.0</td>\n",
       "    </tr>\n",
       "    <tr>\n",
       "      <th>810107</th>\n",
       "      <td>Night and Day</td>\n",
       "      <td>1946</td>\n",
       "      <td>Cary Grant</td>\n",
       "      <td>actor</td>\n",
       "      <td>Cole Porter</td>\n",
       "      <td>1.0</td>\n",
       "    </tr>\n",
       "    <tr>\n",
       "      <th>810110</th>\n",
       "      <td>Notorious</td>\n",
       "      <td>1946</td>\n",
       "      <td>Cary Grant</td>\n",
       "      <td>actor</td>\n",
       "      <td>Devlin</td>\n",
       "      <td>1.0</td>\n",
       "    </tr>\n",
       "    <tr>\n",
       "      <th>810127</th>\n",
       "      <td>The Bachelor and the Bobby-Soxer</td>\n",
       "      <td>1947</td>\n",
       "      <td>Cary Grant</td>\n",
       "      <td>actor</td>\n",
       "      <td>Dick Nugent</td>\n",
       "      <td>1.0</td>\n",
       "    </tr>\n",
       "    <tr>\n",
       "      <th>810128</th>\n",
       "      <td>The Bishop's Wife</td>\n",
       "      <td>1947</td>\n",
       "      <td>Cary Grant</td>\n",
       "      <td>actor</td>\n",
       "      <td>Dudley</td>\n",
       "      <td>1.0</td>\n",
       "    </tr>\n",
       "    <tr>\n",
       "      <th>810103</th>\n",
       "      <td>Mr. Blandings Builds His Dream House</td>\n",
       "      <td>1948</td>\n",
       "      <td>Cary Grant</td>\n",
       "      <td>actor</td>\n",
       "      <td>Jim Blandings</td>\n",
       "      <td>1.0</td>\n",
       "    </tr>\n",
       "    <tr>\n",
       "      <th>810083</th>\n",
       "      <td>Every Girl Should Be Married</td>\n",
       "      <td>1948</td>\n",
       "      <td>Cary Grant</td>\n",
       "      <td>actor</td>\n",
       "      <td>Dr. Madison Brown</td>\n",
       "      <td>1.0</td>\n",
       "    </tr>\n",
       "    <tr>\n",
       "      <th>810092</th>\n",
       "      <td>I Was a Male War Bride</td>\n",
       "      <td>1949</td>\n",
       "      <td>Cary Grant</td>\n",
       "      <td>actor</td>\n",
       "      <td>Capt. Henri Rochard</td>\n",
       "      <td>1.0</td>\n",
       "    </tr>\n",
       "  </tbody>\n",
       "</table>\n",
       "</div>"
      ],
      "text/plain": [
       "                                       title  year        name   type  \\\n",
       "810131               The Howards of Virginia  1940  Cary Grant  actor   \n",
       "810088                       His Girl Friday  1940  Cary Grant  actor   \n",
       "810133                The Philadelphia Story  1940  Cary Grant  actor   \n",
       "810121                             Suspicion  1941  Cary Grant  actor   \n",
       "810135                  The Talk of the Town  1942  Cary Grant  actor   \n",
       "810112                 Once Upon a Honeymoon  1942  Cary Grant  actor   \n",
       "810079                     Destination Tokyo  1943  Cary Grant  actor   \n",
       "810104                             Mr. Lucky  1943  Cary Grant  actor   \n",
       "810105                             Mr. Lucky  1943  Cary Grant  actor   \n",
       "810113                      Once Upon a Time  1944  Cary Grant  actor   \n",
       "810071                  Arsenic and Old Lace  1944  Cary Grant  actor   \n",
       "810108             None But the Lonely Heart  1944  Cary Grant  actor   \n",
       "810107                         Night and Day  1946  Cary Grant  actor   \n",
       "810110                             Notorious  1946  Cary Grant  actor   \n",
       "810127      The Bachelor and the Bobby-Soxer  1947  Cary Grant  actor   \n",
       "810128                     The Bishop's Wife  1947  Cary Grant  actor   \n",
       "810103  Mr. Blandings Builds His Dream House  1948  Cary Grant  actor   \n",
       "810083          Every Girl Should Be Married  1948  Cary Grant  actor   \n",
       "810092                I Was a Male War Bride  1949  Cary Grant  actor   \n",
       "\n",
       "                    character    n  \n",
       "810131            Matt Howard  1.0  \n",
       "810088           Walter Burns  1.0  \n",
       "810133     C. K. Dexter Haven  1.0  \n",
       "810121                Johnnie  1.0  \n",
       "810135           Leopold Dilg  1.0  \n",
       "810112  Patrick 'Pat' O'Toole  1.0  \n",
       "810079          Capt. Cassidy  1.0  \n",
       "810104              Joe Adams  1.0  \n",
       "810105        Joe Bascopolous  1.0  \n",
       "810113            Jerry Flynn  1.0  \n",
       "810071      Mortimer Brewster  1.0  \n",
       "810108             Ernie Mott  1.0  \n",
       "810107            Cole Porter  1.0  \n",
       "810110                 Devlin  1.0  \n",
       "810127            Dick Nugent  1.0  \n",
       "810128                 Dudley  1.0  \n",
       "810103          Jim Blandings  1.0  \n",
       "810083      Dr. Madison Brown  1.0  \n",
       "810092    Capt. Henri Rochard  1.0  "
      ]
     },
     "execution_count": 32,
     "metadata": {},
     "output_type": "execute_result"
    }
   ],
   "source": [
    "Cary_Grant_1940s_leading_roles = cast[(cast['name'] == 'Cary Grant') &\n",
    "                                      (cast['n'] == 1) & \n",
    "                                      (cast['year'] >= 1940) & \n",
    "                                      (cast['year'] <= 1949)].sort_values('year')\n",
    "Cary_Grant_1940s_leading_roles"
   ]
  },
  {
   "cell_type": "code",
   "execution_count": null,
   "metadata": {
    "collapsed": true
   },
   "outputs": [],
   "source": []
  },
  {
   "cell_type": "markdown",
   "metadata": {
    "collapsed": true
   },
   "source": [
    "### How many roles were available for actors in the 1950s?"
   ]
  },
  {
   "cell_type": "code",
   "execution_count": 33,
   "metadata": {
    "collapsed": false
   },
   "outputs": [
    {
     "data": {
      "text/plain": [
       "152504"
      ]
     },
     "execution_count": 33,
     "metadata": {},
     "output_type": "execute_result"
    }
   ],
   "source": [
    "num_1950s_actor_roles = cast[(cast['type'] == 'actor') & \n",
    "                             (cast['year'] >= 1950) & \n",
    "                             (cast['year'] <= 1959)].shape[0]\n",
    "num_1950s_actor_roles"
   ]
  },
  {
   "cell_type": "code",
   "execution_count": null,
   "metadata": {
    "collapsed": true
   },
   "outputs": [],
   "source": []
  },
  {
   "cell_type": "markdown",
   "metadata": {
    "collapsed": true
   },
   "source": [
    "### How many roles were avilable for actresses in the 1950s?"
   ]
  },
  {
   "cell_type": "code",
   "execution_count": 34,
   "metadata": {
    "collapsed": false
   },
   "outputs": [
    {
     "data": {
      "text/plain": [
       "55399"
      ]
     },
     "execution_count": 34,
     "metadata": {},
     "output_type": "execute_result"
    }
   ],
   "source": [
    "num_1950s_actress_roles = cast[(cast['type'] == 'actress') & \n",
    "                             (cast['year'] >= 1950) & \n",
    "                             (cast['year'] <= 1959)].shape[0]\n",
    "num_1950s_actress_roles"
   ]
  },
  {
   "cell_type": "code",
   "execution_count": null,
   "metadata": {
    "collapsed": true
   },
   "outputs": [],
   "source": []
  },
  {
   "cell_type": "markdown",
   "metadata": {
    "collapsed": true
   },
   "source": [
    "### How many leading roles (n=1) were available from the beginning of film history through 1980?"
   ]
  },
  {
   "cell_type": "code",
   "execution_count": 38,
   "metadata": {
    "collapsed": false
   },
   "outputs": [
    {
     "data": {
      "text/plain": [
       "62893"
      ]
     },
     "execution_count": 38,
     "metadata": {},
     "output_type": "execute_result"
    }
   ],
   "source": [
    "num_leading_roles_thru_1980 = cast[(cast['n'] == 1) & (cast['year'] <= 1980)].shape[0]\n",
    "num_leading_roles_thru_1980"
   ]
  },
  {
   "cell_type": "code",
   "execution_count": null,
   "metadata": {
    "collapsed": true
   },
   "outputs": [],
   "source": []
  },
  {
   "cell_type": "markdown",
   "metadata": {
    "collapsed": true
   },
   "source": [
    "### How many non-leading roles were available through from the beginning of film history through 1980?"
   ]
  },
  {
   "cell_type": "code",
   "execution_count": 39,
   "metadata": {
    "collapsed": false
   },
   "outputs": [
    {
     "data": {
      "text/plain": [
       "1078683"
      ]
     },
     "execution_count": 39,
     "metadata": {},
     "output_type": "execute_result"
    }
   ],
   "source": [
    "num_non_leading_roles_thru_1980 = cast[(cast['n'] != 1) & (cast['year'] <= 1980)].shape[0]\n",
    "num_non_leading_roles_thru_1980"
   ]
  },
  {
   "cell_type": "code",
   "execution_count": null,
   "metadata": {
    "collapsed": true
   },
   "outputs": [],
   "source": []
  },
  {
   "cell_type": "markdown",
   "metadata": {
    "collapsed": true
   },
   "source": [
    "### How many roles through 1980 were minor enough that they did not warrant a numeric \"n\" rank?"
   ]
  },
  {
   "cell_type": "code",
   "execution_count": 40,
   "metadata": {
    "collapsed": false
   },
   "outputs": [
    {
     "data": {
      "text/plain": [
       "431053"
      ]
     },
     "execution_count": 40,
     "metadata": {},
     "output_type": "execute_result"
    }
   ],
   "source": [
    "num_minor_roles_thru_1980 = cast[(cast['n'].isnull()) & (cast['year'] <= 1980)].shape[0]\n",
    "num_minor_roles_thru_1980"
   ]
  },
  {
   "cell_type": "code",
   "execution_count": null,
   "metadata": {
    "collapsed": true
   },
   "outputs": [],
   "source": []
  }
 ],
 "metadata": {
  "kernelspec": {
   "display_name": "Python 3",
   "language": "python",
   "name": "python3"
  },
  "language_info": {
   "codemirror_mode": {
    "name": "ipython",
    "version": 3
   },
   "file_extension": ".py",
   "mimetype": "text/x-python",
   "name": "python",
   "nbconvert_exporter": "python",
   "pygments_lexer": "ipython3",
   "version": "3.4.4"
  }
 },
 "nbformat": 4,
 "nbformat_minor": 0
}
