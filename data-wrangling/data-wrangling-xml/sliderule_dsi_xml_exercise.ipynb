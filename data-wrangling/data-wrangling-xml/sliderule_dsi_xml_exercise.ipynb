{
 "cells": [
  {
   "cell_type": "markdown",
   "metadata": {},
   "source": [
    "# XML example and exercise\n",
    "****\n",
    "+ study examples of accessing nodes in XML tree structure  \n",
    "+ work on exercise to be completed and submitted\n",
    "****\n",
    "+ reference: https://docs.python.org/2.7/library/xml.etree.elementtree.html\n",
    "+ data source: http://www.dbis.informatik.uni-goettingen.de/Mondial\n",
    "****"
   ]
  },
  {
   "cell_type": "code",
   "execution_count": 1,
   "metadata": {
    "collapsed": true
   },
   "outputs": [],
   "source": [
    "from xml.etree import ElementTree as ET"
   ]
  },
  {
   "cell_type": "markdown",
   "metadata": {},
   "source": [
    "## XML example\n",
    "\n",
    "+ for details about tree traversal and iterators, see https://docs.python.org/2.7/library/xml.etree.elementtree.html"
   ]
  },
  {
   "cell_type": "code",
   "execution_count": 2,
   "metadata": {
    "collapsed": true
   },
   "outputs": [],
   "source": [
    "document_tree = ET.parse( './data/mondial_database_less.xml' )"
   ]
  },
  {
   "cell_type": "code",
   "execution_count": 3,
   "metadata": {
    "collapsed": false
   },
   "outputs": [
    {
     "name": "stdout",
     "output_type": "stream",
     "text": [
      "Albania\n",
      "Greece\n",
      "Macedonia\n",
      "Serbia\n",
      "Montenegro\n",
      "Kosovo\n",
      "Andorra\n"
     ]
    }
   ],
   "source": [
    "# print names of all countries\n",
    "for child in document_tree.getroot():\n",
    "    #print child.find('name').text\n",
    "    print(child.find('name').text)"
   ]
  },
  {
   "cell_type": "code",
   "execution_count": 4,
   "metadata": {
    "collapsed": false
   },
   "outputs": [
    {
     "name": "stdout",
     "output_type": "stream",
     "text": [
      "* Albania: Tirana, Shkodër, Durrës, Vlorë, Elbasan, Korçë\n",
      "* Greece: Komotini, Kavala, Athina, Peiraias, Peristeri, Acharnes, Patra, Kozani, Kerkyra, Ioannina, Thessaloniki, Iraklio, Chania, Ermoupoli, Rhodes, Tripoli, Lamia, Chalkida, Larissa, Volos, Mytilini, Karyes\n",
      "* Macedonia: Skopje, Kumanovo\n",
      "* Serbia: Beograd, Novi Sad, Niš\n",
      "* Montenegro: Podgorica\n",
      "* Kosovo: Prishtine\n",
      "* Andorra: Andorra la Vella\n"
     ]
    }
   ],
   "source": [
    "# print names of all countries and their cities\n",
    "# Python 2 version\n",
    "#for element in document_tree.iterfind('country'):\n",
    "#    print '* ' + element.find('name').text + ':',\n",
    "#    capitals_string = ''\n",
    "#    for subelement in element.getiterator('city'):\n",
    "#        capitals_string += subelement.find('name').text + ', '\n",
    "#    print capitals_string[:-2]\n",
    "# Python 3 version\n",
    "for element in document_tree.iterfind('country'):\n",
    "    print_string = '* ' + element.find('name').text + ': '\n",
    "    capitals_string = ''\n",
    "    for subelement in element.getiterator('city'):\n",
    "        capitals_string += subelement.find('name').text + ', '\n",
    "    print_string += capitals_string[:-2]\n",
    "    print(print_string)"
   ]
  },
  {
   "cell_type": "markdown",
   "metadata": {},
   "source": [
    "****\n",
    "## XML exercise\n",
    "\n",
    "Using data in 'data/mondial_database.xml', the examples above, and refering to https://docs.python.org/2.7/library/xml.etree.elementtree.html, find\n",
    "\n",
    "1. 10 countries with the lowest infant mortality rates\n",
    "2. 10 cities with the largest population\n",
    "3. 10 ethnic groups with the largest overall populations (sum of best/latest estimates over all countries)\n",
    "4. name and country of a) longest river, b) largest lake and c) airport at highest elevation"
   ]
  },
  {
   "cell_type": "code",
   "execution_count": 5,
   "metadata": {
    "collapsed": true
   },
   "outputs": [],
   "source": [
    "document = ET.parse( './data/mondial_database.xml' )"
   ]
  },
  {
   "cell_type": "code",
   "execution_count": 6,
   "metadata": {
    "collapsed": false
   },
   "outputs": [
    {
     "data": {
      "text/plain": [
       "<xml.etree.ElementTree.ElementTree at 0x105ed2438>"
      ]
     },
     "execution_count": 6,
     "metadata": {},
     "output_type": "execute_result"
    }
   ],
   "source": [
    "document"
   ]
  },
  {
   "cell_type": "code",
   "execution_count": 7,
   "metadata": {
    "collapsed": true
   },
   "outputs": [],
   "source": [
    "root = document.getroot()"
   ]
  },
  {
   "cell_type": "code",
   "execution_count": 8,
   "metadata": {
    "collapsed": false
   },
   "outputs": [
    {
     "data": {
      "text/plain": [
       "<Element 'mondial' at 0x105ecc778>"
      ]
     },
     "execution_count": 8,
     "metadata": {},
     "output_type": "execute_result"
    }
   ],
   "source": [
    "root"
   ]
  },
  {
   "cell_type": "code",
   "execution_count": 9,
   "metadata": {
    "collapsed": false
   },
   "outputs": [],
   "source": [
    "# Create a dictionary mapping each country to its infant mortality rate\n",
    "im_dict = {}\n",
    "for country in document.iterfind('country'):\n",
    "    name = country.find('name').text\n",
    "    infant_mortality = country.findtext('infant_mortality')\n",
    "    # Let's ignore the countries that didn't report infant morality\n",
    "    if infant_mortality is not None:\n",
    "        im_dict[name] = float(infant_mortality)"
   ]
  },
  {
   "cell_type": "code",
   "execution_count": 10,
   "metadata": {
    "collapsed": false
   },
   "outputs": [
    {
     "name": "stdout",
     "output_type": "stream",
     "text": [
      "The 10 countries with the lowest reported infant morality rates are:\n",
      "Country: Rate\n",
      "Monaco: 1.81\n",
      "Japan: 2.13\n",
      "Bermuda: 2.48\n",
      "Norway: 2.48\n",
      "Singapore: 2.53\n",
      "Sweden: 2.6\n",
      "Czech Republic: 2.63\n",
      "Hong Kong: 2.73\n",
      "Macao: 3.13\n",
      "Iceland: 3.15\n"
     ]
    }
   ],
   "source": [
    "# Find the 10 countries with the lowest reported infant mortality rates\n",
    "im_10 = sorted(im_dict.items(), key=lambda x: x[1])[:10]\n",
    "print('The 10 countries with the lowest reported infant morality rates are:')\n",
    "print('Country: Rate')\n",
    "for i in im_10:\n",
    "    print(i[0]+':',i[1])"
   ]
  },
  {
   "cell_type": "code",
   "execution_count": 11,
   "metadata": {
    "collapsed": false
   },
   "outputs": [],
   "source": [
    "# Make a dictionary matching each city with a recorded population \n",
    "# to its most recently recorded population\n",
    "city_pop_dict = {}\n",
    "for country in document.iterfind('country'):\n",
    "    for city in country.iterfind('city'):\n",
    "        city_name = city.find('name').text\n",
    "        pop_dict = {}\n",
    "        # Populate the population dictionary for this city with the \n",
    "        # population for each year it's available, i.e. year:population\n",
    "        for pop in city.iterfind('population'):\n",
    "            year = int(pop.get('year'))\n",
    "            pop_dict[year] = int(pop.text)\n",
    "        # Assuming this city actually recorded its population, \n",
    "        # find the most recent population data for the city\n",
    "        # Then populate the city_pop_dict with it, i.e. \n",
    "        # city:most_recent_population\n",
    "        if pop_dict != {}:\n",
    "            latest_year = max(pop_dict, key=pop_dict.get)\n",
    "            city_pop_dict[city_name] = pop_dict[latest_year]"
   ]
  },
  {
   "cell_type": "code",
   "execution_count": 12,
   "metadata": {
    "collapsed": false
   },
   "outputs": [
    {
     "name": "stdout",
     "output_type": "stream",
     "text": [
      "The 10 cities with the greatest populations are:\n",
      "City: Population\n",
      "Seoul: 10229262\n",
      "Al Qahirah: 8471859\n",
      "Bangkok: 7506700\n",
      "Hong Kong: 7055071\n",
      "Ho Chi Minh: 5968384\n",
      "Singapore: 5076700\n",
      "Al Iskandariyah: 4123869\n",
      "New Taipei: 3939305\n",
      "Busan: 3813814\n",
      "Pyongyang: 3255288\n"
     ]
    }
   ],
   "source": [
    "# Find the 10 most populous cities, according to the most recent data\n",
    "pop_10 = sorted(city_pop_dict.items(), reverse=True, key=lambda x: x[1])[:10]\n",
    "print('The 10 cities with the greatest populations are:')\n",
    "print('City: Population')\n",
    "for i in pop_10:\n",
    "    print(i[0]+':',i[1])"
   ]
  },
  {
   "cell_type": "code",
   "execution_count": 13,
   "metadata": {
    "collapsed": false
   },
   "outputs": [],
   "source": [
    "# Create a dictionary displaying the population of each ethnic group\n",
    "egroup_dict = {}\n",
    "for country in document.iterfind('country'):\n",
    "    country_name = country.find('name').text\n",
    "    pop_dict = {}\n",
    "    for pop in country.iterfind('population'):\n",
    "        year = int(pop.get('year'))\n",
    "        pop_dict[year] = int(pop.text)\n",
    "    latest_year = max(pop_dict, key=pop_dict.get)\n",
    "    country_pop = pop_dict[latest_year]\n",
    "    for eg in country.iterfind('ethnicgroup'):\n",
    "        egroup = eg.text\n",
    "        pop = round(country_pop * float(eg.get('percentage')) / 100.)\n",
    "        if egroup not in egroup_dict.keys():\n",
    "            egroup_dict[egroup] = pop\n",
    "        else:\n",
    "            egroup_dict[egroup] += pop"
   ]
  },
  {
   "cell_type": "code",
   "execution_count": 14,
   "metadata": {
    "collapsed": false
   },
   "outputs": [
    {
     "name": "stdout",
     "output_type": "stream",
     "text": [
      "The 10 most populous ethnic groups are:\n",
      "Group: Population\n",
      "Han Chinese: 1245058800\n",
      "Indo-Aryan: 871815583\n",
      "European: 494939517\n",
      "African: 318359698\n",
      "Dravidian: 302713744\n",
      "Mestizo: 157855272\n",
      "Bengali: 146776917\n",
      "Russian: 136866551\n",
      "Japanese: 127289008\n",
      "Malay: 121993620\n"
     ]
    }
   ],
   "source": [
    "# Find the 10 most populous ethnic groups, according to the most recent data\n",
    "eg_10 = sorted(egroup_dict.items(), reverse=True, key=lambda x: x[1])[:10]\n",
    "print('The 10 most populous ethnic groups are:')\n",
    "print('Group: Population')\n",
    "for i in eg_10:\n",
    "    print(i[0]+':',i[1])"
   ]
  },
  {
   "cell_type": "code",
   "execution_count": 15,
   "metadata": {
    "collapsed": false
   },
   "outputs": [],
   "source": [
    "# Create a dictionary mapping country names to car codes\n",
    "country_dict = {}\n",
    "for country in document.iterfind('country'):\n",
    "    country_name = country.find('name').text\n",
    "    country_code = country.get('car_code')\n",
    "    country_dict[country_code] = country_name"
   ]
  },
  {
   "cell_type": "code",
   "execution_count": 16,
   "metadata": {
    "collapsed": true
   },
   "outputs": [],
   "source": [
    "# Find the length and country of origin of each river\n",
    "river_country = {}\n",
    "river_length = {}\n",
    "for river in document.iterfind('river'):\n",
    "    river_name = river.find('name').text\n",
    "    # If more than one source country is listed, take the first one\n",
    "    country_code = river.find('source').get('country').split()[0]\n",
    "    length = river.findtext('length')\n",
    "    # Ignore any rivers whose lengths are not recorded\n",
    "    if length is not None:\n",
    "        river_length[river_name] = float(length)\n",
    "        river_country[river_name] = country_dict[country_code]"
   ]
  },
  {
   "cell_type": "code",
   "execution_count": 17,
   "metadata": {
    "collapsed": false
   },
   "outputs": [
    {
     "name": "stdout",
     "output_type": "stream",
     "text": [
      "The longest river is the Amazonas.\n",
      "It is 6448.0 km long and originates in Peru.\n"
     ]
    }
   ],
   "source": [
    "# Find the name and country of origin of the longest river\n",
    "lr = max(river_length, key=river_length.get)\n",
    "print('The longest river is the {}.'.format(lr))\n",
    "print('It is {} km long and originates in {}.'.format(river_length[lr], river_country[lr]))"
   ]
  },
  {
   "cell_type": "code",
   "execution_count": 18,
   "metadata": {
    "collapsed": true
   },
   "outputs": [],
   "source": [
    "# Find the area and country of origin of each lake\n",
    "lake_country = {}\n",
    "lake_area = {}\n",
    "for lake in document.iterfind('lake'):\n",
    "    lake_name = lake.find('name').text\n",
    "    # If more than one country is listed, take the first one\n",
    "    country_code = lake.get('country').split()[0]\n",
    "    area = lake.findtext('area')\n",
    "    # Ignore any lakes whose areas are not recorded\n",
    "    if area is not None:\n",
    "        lake_area[lake_name] = float(area)\n",
    "        lake_country[lake_name] = country_dict[country_code]"
   ]
  },
  {
   "cell_type": "code",
   "execution_count": 19,
   "metadata": {
    "collapsed": false
   },
   "outputs": [
    {
     "name": "stdout",
     "output_type": "stream",
     "text": [
      "The largest lake is the Caspian Sea.\n",
      "It has an area of 386400.0 km**2 and is located in Russia.\n"
     ]
    }
   ],
   "source": [
    "# Find the name and country of origin of the largest lake\n",
    "ll = max(lake_area, key=lake_area.get)\n",
    "print('The largest lake is the {}.'.format(ll))\n",
    "print('It has an area of {} km**2 and is located in {}.'.format(lake_area[ll], lake_country[ll]))"
   ]
  },
  {
   "cell_type": "code",
   "execution_count": 20,
   "metadata": {
    "collapsed": false
   },
   "outputs": [],
   "source": [
    "# Find the elevation and country of each airport\n",
    "ap_country = {}\n",
    "ap_elevation = {}\n",
    "for ap in document.iterfind('airport'):\n",
    "    ap_name = ap.find('name').text\n",
    "    country_code = ap.get('country')\n",
    "    el = ap.find('elevation').text\n",
    "    if el is not None:\n",
    "        ap_elevation[ap_name] = int(el)\n",
    "        ap_country[ap_name] = country_dict[country_code]"
   ]
  },
  {
   "cell_type": "code",
   "execution_count": 21,
   "metadata": {
    "collapsed": false
   },
   "outputs": [
    {
     "name": "stdout",
     "output_type": "stream",
     "text": [
      "The airport at the greatest elevation is El Alto Intl.\n",
      "Its elevation is 4063 m and it is located in Bolivia.\n"
     ]
    }
   ],
   "source": [
    "# Find the name and country of the airport at the greatest elevation\n",
    "ge = max(ap_elevation, key=ap_elevation.get)\n",
    "print('The airport at the greatest elevation is {}.'.format(ge))\n",
    "print('Its elevation is {} m and it is located in {}.'.format(ap_elevation[ge], ap_country[ge]))"
   ]
  }
 ],
 "metadata": {
  "kernelspec": {
   "display_name": "Python 3",
   "language": "python",
   "name": "python3"
  },
  "language_info": {
   "codemirror_mode": {
    "name": "ipython",
    "version": 3
   },
   "file_extension": ".py",
   "mimetype": "text/x-python",
   "name": "python",
   "nbconvert_exporter": "python",
   "pygments_lexer": "ipython3",
   "version": "3.4.4"
  }
 },
 "nbformat": 4,
 "nbformat_minor": 0
}
